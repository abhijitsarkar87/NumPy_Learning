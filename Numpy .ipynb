{
 "cells": [
  {
   "cell_type": "markdown",
   "id": "fa62f8f1",
   "metadata": {},
   "source": [
    "1. What is NumPy?\n",
    "\n",
    "Ans: NumPy is the Python Package. It stands for numerical Python. In data Science we use to process the array"
   ]
  },
  {
   "cell_type": "code",
   "execution_count": 1,
   "id": "5eaaf84a",
   "metadata": {},
   "outputs": [],
   "source": [
    "# import numpy library \n",
    "import numpy"
   ]
  },
  {
   "cell_type": "markdown",
   "id": "025a0c66",
   "metadata": {},
   "source": [
    "2. What is an Array?\n",
    "\n",
    "Ans: An array is a collection of items of same data type stored at contiguous memory locations. This makes it easier to calculate the position of each element by simply adding an offset to a base"
   ]
  },
  {
   "cell_type": "code",
   "execution_count": 2,
   "id": "5b2c0817",
   "metadata": {},
   "outputs": [
    {
     "data": {
      "text/plain": [
       "array([1, 2, 3, 4, 5, 6])"
      ]
     },
     "execution_count": 2,
     "metadata": {},
     "output_type": "execute_result"
    }
   ],
   "source": [
    "# saving the data in continious memory location\n",
    "\n",
    "numpy.array([1,2,3,4,5,6])"
   ]
  },
  {
   "cell_type": "code",
   "execution_count": 4,
   "id": "e326bd39",
   "metadata": {},
   "outputs": [
    {
     "data": {
      "text/plain": [
       "array([11, 22, 33, 44, 55])"
      ]
     },
     "execution_count": 4,
     "metadata": {},
     "output_type": "execute_result"
    }
   ],
   "source": [
    "# saving the data in continious memory location * means they kept in one memory location\n",
    "\n",
    "numpy.array([11,22,33,44,55])"
   ]
  },
  {
   "cell_type": "code",
   "execution_count": 5,
   "id": "d7670bc4",
   "metadata": {},
   "outputs": [
    {
     "data": {
      "text/plain": [
       "array([90, 30, 50, 55])"
      ]
     },
     "execution_count": 5,
     "metadata": {},
     "output_type": "execute_result"
    }
   ],
   "source": [
    "a=numpy.array([90,30,50,55])\n",
    "a"
   ]
  },
  {
   "cell_type": "code",
   "execution_count": 6,
   "id": "c062edc7",
   "metadata": {},
   "outputs": [
    {
     "data": {
      "text/plain": [
       "array([98, 54, 76, 38, 59])"
      ]
     },
     "execution_count": 6,
     "metadata": {},
     "output_type": "execute_result"
    }
   ],
   "source": [
    "b=numpy.array([98,54,76,38,59])\n",
    "b"
   ]
  },
  {
   "cell_type": "code",
   "execution_count": 7,
   "id": "1f64a8aa",
   "metadata": {},
   "outputs": [],
   "source": [
    "# calling numpy by alise \n",
    "\n",
    "import numpy as np"
   ]
  },
  {
   "cell_type": "code",
   "execution_count": 8,
   "id": "362159d1",
   "metadata": {},
   "outputs": [
    {
     "data": {
      "text/plain": [
       "5"
      ]
     },
     "execution_count": 8,
     "metadata": {},
     "output_type": "execute_result"
    }
   ],
   "source": [
    "# size will tell us number of elements \n",
    "b.size"
   ]
  },
  {
   "cell_type": "code",
   "execution_count": 9,
   "id": "08d2201c",
   "metadata": {},
   "outputs": [
    {
     "data": {
      "text/plain": [
       "(5,)"
      ]
     },
     "execution_count": 9,
     "metadata": {},
     "output_type": "execute_result"
    }
   ],
   "source": [
    "# shape will show the dimenssion of the elements\n",
    "b.shape"
   ]
  },
  {
   "cell_type": "code",
   "execution_count": 10,
   "id": "9bf726f7",
   "metadata": {},
   "outputs": [
    {
     "name": "stdout",
     "output_type": "stream",
     "text": [
      "Shape or Dimension:  (8,)\n",
      "Size of an array :  8\n"
     ]
    }
   ],
   "source": [
    "# saving the data in one continious memory location is work of an array\n",
    "b=np.array([1,2,3,4,5,6,7,8])\n",
    "print(\"Shape or Dimension: \",b.shape) # its showing 08 elements in one side and other side is empty hence 1d\n",
    "print(\"Size of an array : \",b.size)"
   ]
  },
  {
   "cell_type": "markdown",
   "id": "03b795a3",
   "metadata": {},
   "source": [
    "## 2 DIMENSION DATA\n",
    "\n",
    "- ( [ [ROW1], [ROW2] ] )"
   ]
  },
  {
   "cell_type": "code",
   "execution_count": 11,
   "id": "8dd02bf2",
   "metadata": {},
   "outputs": [
    {
     "name": "stdout",
     "output_type": "stream",
     "text": [
      "Shape or Dimension (2, 2)\n",
      "Size 4\n"
     ]
    }
   ],
   "source": [
    "# checking the shape of c \n",
    "c=np.array([[1,2],[3,4]])\n",
    "\n",
    "print(\"Shape or Dimension\",c.shape) # shows 2 rows and 2 column\n",
    "print(\"Size\",c.size)"
   ]
  },
  {
   "cell_type": "code",
   "execution_count": 17,
   "id": "f43455c7",
   "metadata": {},
   "outputs": [
    {
     "name": "stdout",
     "output_type": "stream",
     "text": [
      "<class 'numpy.ndarray'> \n",
      " [[1 2 3 4]\n",
      " [2 3 4 5]] \n",
      "\n",
      "SHAPE : (2, 4)\n",
      "SIZE : 8\n"
     ]
    }
   ],
   "source": [
    "# checking the shape of b\n",
    "b=np.array([[1,2,3,4],[2,3,4,5]])\n",
    "print(type(b),\"\\n\",b,\"\\n\")\n",
    "\n",
    "print(\"SHAPE :\",b.shape)  # will show 2 rows and 4 column\n",
    "print(\"SIZE :\",b.size) # total 8 elements"
   ]
  },
  {
   "cell_type": "code",
   "execution_count": 20,
   "id": "199b1b91",
   "metadata": {},
   "outputs": [
    {
     "name": "stdout",
     "output_type": "stream",
     "text": [
      "[['3' '4' '5' '6' 'M']\n",
      " ['5' '6' '6' '8' 'G']] \n",
      " <class 'numpy.ndarray'> \n",
      "\n",
      "Shape (2, 5)\n",
      "Size 10\n"
     ]
    }
   ],
   "source": [
    "# checking the shape of e\n",
    "e=np.array([[3,4,5,6,'M'],[5,6,6,8,'G']])\n",
    "print(e,\"\\n\",type(e),\"\\n\")\n",
    "print(\"Shape\",e.shape) # show two rows by 5 column\n",
    "print(\"Size\",e.size)"
   ]
  },
  {
   "cell_type": "code",
   "execution_count": 21,
   "id": "59b199f3",
   "metadata": {},
   "outputs": [
    {
     "name": "stdout",
     "output_type": "stream",
     "text": [
      "[[4 6 7]\n",
      " [3 5 6]\n",
      " [4 6 7]\n",
      " [8 9 0]]\n",
      "Shape  (4, 3)\n",
      "Size  (2, 5)\n"
     ]
    }
   ],
   "source": [
    "# checking the shape of f\n",
    "f=np.array([[4,6,7],[3,5,6],[4,6,7],[8,9,0]])\n",
    "# shows 4 rows and 12 elements as size\n",
    "print(f)\n",
    "print(\"Shape \",f.shape) # shows 4 rows and 12 elements\n",
    "print(\"Size \",e.shape)"
   ]
  },
  {
   "cell_type": "code",
   "execution_count": 22,
   "id": "f1d3c81c",
   "metadata": {},
   "outputs": [
    {
     "name": "stdout",
     "output_type": "stream",
     "text": [
      "[[ 1  2]\n",
      " [ 3  4]\n",
      " [ 5  6]\n",
      " [ 7  8]\n",
      " [ 9 10]]\n",
      "(5, 2)\n",
      "10\n"
     ]
    }
   ],
   "source": [
    "# checking the shape,size of g\n",
    "\n",
    "g=np.array([[1,2],[3,4],[5,6],[7,8],[9,10]]) # 5 rows and 2 columns and size is 10\n",
    "\n",
    "# print \n",
    "print(g)\n",
    "print(g.shape)\n",
    "print(g.size)"
   ]
  },
  {
   "cell_type": "code",
   "execution_count": 23,
   "id": "e77d5d12",
   "metadata": {},
   "outputs": [
    {
     "name": "stdout",
     "output_type": "stream",
     "text": [
      "[[1 2 3]\n",
      " [4 5 6]\n",
      " [7 8 9]]\n",
      "(3, 3)\n",
      "9\n",
      "2\n"
     ]
    }
   ],
   "source": [
    "# checking the shape, dimension and size of h\n",
    "\n",
    "h=np.array([[1,2,3],[4,5,6],[7,8,9]])\n",
    "print(h)\n",
    "\n",
    "# will show the shape as 3 rows and 3 column\n",
    "print(h.shape)\n",
    "\n",
    "# will show the total elements inside it\n",
    "print(h.size)\n",
    "\n",
    "# ndim will show the dimension \n",
    "print(h.ndim)"
   ]
  },
  {
   "cell_type": "code",
   "execution_count": 27,
   "id": "1a973feb",
   "metadata": {},
   "outputs": [
    {
     "name": "stdout",
     "output_type": "stream",
     "text": [
      "[[2 2 3 3]\n",
      " [4 4 4 4]\n",
      " [5 5 5 5]]\n",
      "Shape : (3, 4)\n",
      "SIZE : 12\n",
      "Dimension : 2\n",
      "Max :  5\n",
      "Min :  2\n",
      "Data Type : int32\n"
     ]
    }
   ],
   "source": [
    "i=np.array([[2,2,3,3],[4,4,4,4],[5,5,5,5]]) # will show the shape as 3 rows and 4 column\n",
    "print(i)\n",
    "\n",
    "# will show the shape as 3 rows and 4 columns\n",
    "print(\"Shape :\",i.shape)\n",
    "\n",
    "# will show the size as 12 as total elements are 12\n",
    "print(\"SIZE :\",i.size)\n",
    "\n",
    "# will show the dimension \n",
    "print(\"Dimension :\",i.ndim)\n",
    "\n",
    "# will show the minimum and maximum from in an array\n",
    "\n",
    "print(\"Max : \",i.max())\n",
    "print(\"Min : \",i.min())\n",
    "\n",
    "# will show the data type \n",
    "print(\"Data Type :\",i.dtype)"
   ]
  },
  {
   "cell_type": "markdown",
   "id": "6152302a",
   "metadata": {},
   "source": [
    "## Re-shape"
   ]
  },
  {
   "cell_type": "code",
   "execution_count": 29,
   "id": "eb9295a0",
   "metadata": {},
   "outputs": [
    {
     "data": {
      "text/plain": [
       "array([[2, 2, 3],\n",
       "       [3, 4, 4],\n",
       "       [4, 4, 5],\n",
       "       [5, 5, 5]])"
      ]
     },
     "execution_count": 29,
     "metadata": {},
     "output_type": "execute_result"
    }
   ],
   "source": [
    "f=i.reshape(4,3)\n",
    "f"
   ]
  },
  {
   "cell_type": "markdown",
   "id": "401238eb",
   "metadata": {},
   "source": [
    "## Dtype"
   ]
  },
  {
   "cell_type": "code",
   "execution_count": 31,
   "id": "5b6a2242",
   "metadata": {},
   "outputs": [
    {
     "data": {
      "text/plain": [
       "dtype('int32')"
      ]
     },
     "execution_count": 31,
     "metadata": {},
     "output_type": "execute_result"
    }
   ],
   "source": [
    "# 32 is bytes memory consumed\n",
    "f.dtype"
   ]
  },
  {
   "cell_type": "code",
   "execution_count": 30,
   "id": "afa22b31",
   "metadata": {},
   "outputs": [
    {
     "data": {
      "text/plain": [
       "4"
      ]
     },
     "execution_count": 30,
     "metadata": {},
     "output_type": "execute_result"
    }
   ],
   "source": [
    "# 4 bytes is consumed by each item\n",
    "f.itemsize"
   ]
  },
  {
   "cell_type": "code",
   "execution_count": 32,
   "id": "0549843a",
   "metadata": {},
   "outputs": [
    {
     "name": "stdout",
     "output_type": "stream",
     "text": [
      "Shows 3 rows and 2 columns  (3, 2)\n",
      "Shows dimension as  2\n",
      "Data Type int32\n",
      "Shows memory consumed by elements as  4\n",
      "Will Show the Minimum from Array  1\n",
      "Will Show the Maximum from Array 6\n",
      "Changing The shape of a\n",
      "\n",
      " [[1 2 3]\n",
      " [4 5 6]]\n"
     ]
    }
   ],
   "source": [
    "a=np.array([[1,2],[3,4],[5,6]])\n",
    "\n",
    "print(\"Shows 3 rows and 2 columns \",a.shape)\n",
    "print(\"Shows dimension as \",a.ndim)\n",
    "print(\"Data Type\",a.dtype)\n",
    "print(\"Shows memory consumed by elements as \",a.itemsize)\n",
    "print(\"Will Show the Minimum from Array \",a.min())\n",
    "print(\"Will Show the Maximum from Array\",a.max())\n",
    "print(\"Changing The shape of a\\n\\n\",a.reshape(2,3))"
   ]
  },
  {
   "cell_type": "markdown",
   "id": "2ab963ac",
   "metadata": {},
   "source": [
    "# Aranage function"
   ]
  },
  {
   "cell_type": "code",
   "execution_count": 35,
   "id": "235dce7a",
   "metadata": {},
   "outputs": [
    {
     "data": {
      "text/plain": [
       "array([ 0,  1,  2,  3,  4,  5,  6,  7,  8,  9, 10, 11])"
      ]
     },
     "execution_count": 35,
     "metadata": {},
     "output_type": "execute_result"
    }
   ],
   "source": [
    "x=np.arange(12)\n",
    "x"
   ]
  },
  {
   "cell_type": "code",
   "execution_count": 36,
   "id": "75802da0",
   "metadata": {},
   "outputs": [
    {
     "name": "stdout",
     "output_type": "stream",
     "text": [
      "[[ 0  1  2]\n",
      " [ 3  4  5]\n",
      " [ 6  7  8]\n",
      " [ 9 10 11]]\n"
     ]
    }
   ],
   "source": [
    "a=x.reshape(4,3)\n",
    "print(a)"
   ]
  },
  {
   "cell_type": "code",
   "execution_count": 38,
   "id": "749ae6b9",
   "metadata": {},
   "outputs": [
    {
     "data": {
      "text/plain": [
       "array([[ 0.,  1.,  2.,  3.,  4.],\n",
       "       [ 5.,  6.,  7.,  8.,  9.],\n",
       "       [10., 11., 12., 13., 14.]])"
      ]
     },
     "execution_count": 38,
     "metadata": {},
     "output_type": "execute_result"
    }
   ],
   "source": [
    "n=np.arange(15,dtype='float64')\n",
    "n.reshape(3,5)"
   ]
  },
  {
   "cell_type": "code",
   "execution_count": 40,
   "id": "44b06850",
   "metadata": {},
   "outputs": [
    {
     "name": "stdout",
     "output_type": "stream",
     "text": [
      "SHAPE (4, 3)\n",
      "Size 12\n",
      "Dimension int32\n",
      "Type <class 'numpy.ndarray'>\n",
      "Max 11\n",
      "Min 0\n",
      "Item SIZE per element 4\n"
     ]
    }
   ],
   "source": [
    "print(\"SHAPE\" ,a.shape)\n",
    "print(\"Size\",a.size)\n",
    "print(\"Dimension\",a.dtype)\n",
    "print(\"Type\",type(a))\n",
    "print(\"Max\",a.max())\n",
    "print(\"Min\",a.min())\n",
    "print(\"Item SIZE per element\",a.itemsize)"
   ]
  },
  {
   "cell_type": "markdown",
   "id": "1dc7dae5",
   "metadata": {},
   "source": [
    "## Consumtion\n",
    "\n",
    "- 8 bit is 1 byte\n",
    "- 32 byte/8 byte is 4byte "
   ]
  },
  {
   "cell_type": "code",
   "execution_count": 41,
   "id": "8a47400d",
   "metadata": {},
   "outputs": [
    {
     "name": "stdout",
     "output_type": "stream",
     "text": [
      "float64\n",
      "8\n"
     ]
    }
   ],
   "source": [
    "c=np.arange(15,dtype='float64')\n",
    "f=n.reshape(3,5)\n",
    "print(f.dtype)\n",
    "\n",
    "# gives the number of bytes: it is float64 data type hence it takes 8 byte to store the data\n",
    "print(f.itemsize)"
   ]
  },
  {
   "cell_type": "markdown",
   "id": "f1852245",
   "metadata": {},
   "source": [
    "## Consumtion\n",
    "\n",
    "- 8 bit == 1 byte\n",
    "- 64 byte/8 byte is 8 byte"
   ]
  },
  {
   "cell_type": "code",
   "execution_count": 43,
   "id": "d5b95321",
   "metadata": {},
   "outputs": [
    {
     "data": {
      "text/plain": [
       "1"
      ]
     },
     "execution_count": 43,
     "metadata": {},
     "output_type": "execute_result"
    }
   ],
   "source": [
    "a=np.array([1,2,3,4])\n",
    "\n",
    "# show 1 dimensions\n",
    "a.ndim"
   ]
  },
  {
   "cell_type": "code",
   "execution_count": 44,
   "id": "373d1f91",
   "metadata": {},
   "outputs": [
    {
     "data": {
      "text/plain": [
       "2"
      ]
     },
     "execution_count": 44,
     "metadata": {},
     "output_type": "execute_result"
    }
   ],
   "source": [
    "f=a.reshape(2,2)\n",
    "f.ndim"
   ]
  },
  {
   "cell_type": "code",
   "execution_count": 45,
   "id": "e05a9df0",
   "metadata": {},
   "outputs": [
    {
     "name": "stdout",
     "output_type": "stream",
     "text": [
      "[[1 2]\n",
      " [3 4]]\n"
     ]
    }
   ],
   "source": [
    "print(f)"
   ]
  },
  {
   "cell_type": "code",
   "execution_count": 48,
   "id": "adf2a57f",
   "metadata": {},
   "outputs": [
    {
     "name": "stdout",
     "output_type": "stream",
     "text": [
      "Will reshape the numbers into 4 rows and 3 column\n",
      "[[ 0  1  2]\n",
      " [ 3  4  5]\n",
      " [ 6  7  8]\n",
      " [ 9 10 11]] \n",
      "\n",
      "\n",
      "SHAPE : (4, 3) \n",
      "SIZE : 12 \n",
      "Dimension : 2 \n",
      "MAX : 11 \n",
      "MIN : 0 \n",
      "RESHAPE into 6 ROWS and 2 COLUMNS\n",
      " [[ 0  1]\n",
      " [ 2  3]\n",
      " [ 4  5]\n",
      " [ 6  7]\n",
      " [ 8  9]\n",
      " [10 11]]\n"
     ]
    }
   ],
   "source": [
    "f=np.arange(12).reshape(4,3)\n",
    "print(\"Will reshape the numbers into 4 rows and 3 column\")\n",
    "print(f,\"\\n\\n\")\n",
    "print(\"SHAPE :\",f.shape,\"\\nSIZE :\",f.size,\"\\nDimension :\",f.ndim,\"\\nMAX :\",f.max(),\"\\nMIN :\",f.min(),\"\\nRESHAPE into 6 ROWS and 2 COLUMNS\\n\",f.reshape(6,2))"
   ]
  },
  {
   "cell_type": "code",
   "execution_count": 49,
   "id": "5c620059",
   "metadata": {},
   "outputs": [
    {
     "name": "stdout",
     "output_type": "stream",
     "text": [
      "TYPE : <class 'numpy.ndarray'>\n",
      "DATA TYPE : int32\n",
      "ITEM SIZE : 4\n"
     ]
    }
   ],
   "source": [
    "print(\"TYPE :\",type(f))\n",
    "print(\"DATA TYPE :\",f.dtype)\n",
    "print(\"ITEM SIZE :\",f.itemsize)"
   ]
  },
  {
   "cell_type": "markdown",
   "id": "25e5c400",
   "metadata": {},
   "source": [
    "# RAVEL FUNCTION"
   ]
  },
  {
   "cell_type": "code",
   "execution_count": 54,
   "id": "8519581e",
   "metadata": {},
   "outputs": [
    {
     "name": "stdout",
     "output_type": "stream",
     "text": [
      "[[ 0  1  2  3]\n",
      " [ 4  5  6  7]\n",
      " [ 8  9 10 11]\n",
      " [12 13 14 15]]\n",
      "SHAPE  (4, 4)\n",
      "Size 16\n",
      "Dimension  2\n",
      "\n",
      "\n",
      "After using Ravel Function \n",
      " [ 0  1  2  3  4  5  6  7  8  9 10 11 12 13 14 15]\n",
      "SHAPE  (16,)\n",
      "Size 16\n",
      "Dimension 1\n"
     ]
    }
   ],
   "source": [
    "# it will change the 2D data to 1D data\n",
    "\n",
    "b=np.arange(16).reshape(4,4) # will reshape the data to 2D\n",
    "print(b)\n",
    "print(\"SHAPE \",b.shape)\n",
    "print(\"Size\",b.size)\n",
    "print(\"Dimension \",b.ndim)\n",
    "\n",
    "c=b.ravel()\n",
    "print(\"\\n\\nAfter using Ravel Function \\n\",c) \n",
    "print(\"SHAPE \",c.shape)\n",
    "print(\"Size\",c.size)\n",
    "print(\"Dimension\",c.ndim)"
   ]
  },
  {
   "cell_type": "code",
   "execution_count": 55,
   "id": "a73eb2b4",
   "metadata": {},
   "outputs": [
    {
     "name": "stdout",
     "output_type": "stream",
     "text": [
      "[[1 2 3]\n",
      " [3 5 4]]\n",
      "(2, 3)\n",
      "6\n"
     ]
    }
   ],
   "source": [
    "b=np.array([[1,2,3],[3,5,4]])\n",
    "print(b)\n",
    "print(b.shape)\n",
    "print(b.size)"
   ]
  },
  {
   "cell_type": "markdown",
   "id": "58d229e2",
   "metadata": {},
   "source": [
    "# Numpy Zeros/ Ones"
   ]
  },
  {
   "cell_type": "code",
   "execution_count": 60,
   "id": "9a0a95a2",
   "metadata": {},
   "outputs": [
    {
     "data": {
      "text/plain": [
       "array([[0., 0., 0., 0.],\n",
       "       [0., 0., 0., 0.],\n",
       "       [0., 0., 0., 0.],\n",
       "       [0., 0., 0., 0.]])"
      ]
     },
     "execution_count": 60,
     "metadata": {},
     "output_type": "execute_result"
    }
   ],
   "source": [
    "f=np.zeros([4,4])\n",
    "f"
   ]
  },
  {
   "cell_type": "code",
   "execution_count": 61,
   "id": "0fd1497a",
   "metadata": {},
   "outputs": [
    {
     "data": {
      "text/plain": [
       "array([[1., 1., 1., 1.],\n",
       "       [1., 1., 1., 1.],\n",
       "       [1., 1., 1., 1.],\n",
       "       [1., 1., 1., 1.]])"
      ]
     },
     "execution_count": 61,
     "metadata": {},
     "output_type": "execute_result"
    }
   ],
   "source": [
    "f=np.ones([4,4])\n",
    "f"
   ]
  },
  {
   "cell_type": "markdown",
   "id": "f704ace6",
   "metadata": {},
   "source": [
    "# Arange function"
   ]
  },
  {
   "cell_type": "code",
   "execution_count": 62,
   "id": "52227a67",
   "metadata": {},
   "outputs": [
    {
     "data": {
      "text/plain": [
       "array([0, 1, 2, 3, 4, 5, 6, 7, 8, 9])"
      ]
     },
     "execution_count": 62,
     "metadata": {},
     "output_type": "execute_result"
    }
   ],
   "source": [
    "np.arange(10)"
   ]
  },
  {
   "cell_type": "code",
   "execution_count": 63,
   "id": "993ac0d3",
   "metadata": {},
   "outputs": [
    {
     "data": {
      "text/plain": [
       "array([0, 1, 2, 3, 4, 5, 6, 7, 8, 9])"
      ]
     },
     "execution_count": 63,
     "metadata": {},
     "output_type": "execute_result"
    }
   ],
   "source": [
    "# will generate 10 numbers except last \n",
    "np.arange(0,10)"
   ]
  },
  {
   "cell_type": "code",
   "execution_count": 67,
   "id": "f6fc5987",
   "metadata": {},
   "outputs": [
    {
     "data": {
      "text/plain": [
       "array([ 2,  4,  6,  8, 10, 12, 14, 16, 18, 20])"
      ]
     },
     "execution_count": 67,
     "metadata": {},
     "output_type": "execute_result"
    }
   ],
   "source": [
    "# will generate 10 numbers except last\n",
    "np.arange(2,21,2)"
   ]
  },
  {
   "cell_type": "markdown",
   "id": "8a8b5d4a",
   "metadata": {},
   "source": [
    "# Broadcasting Numpy"
   ]
  },
  {
   "cell_type": "markdown",
   "id": "b911a6ed",
   "metadata": {},
   "source": [
    "The term broadcasting describes how numpy treats arrays with different shapes during arthematic operations. Subject to certain contrainsts, the smaller array is broadcast across the larger array so that they have compatible shapes. broadcasting provides a means of vectorizing array operations"
   ]
  },
  {
   "cell_type": "code",
   "execution_count": 74,
   "id": "ec468e3a",
   "metadata": {},
   "outputs": [
    {
     "name": "stdout",
     "output_type": "stream",
     "text": [
      "[2 4 6]\n"
     ]
    }
   ],
   "source": [
    "a=np.arange(1,4)\n",
    "b=np.array([2,2,2])\n",
    "\n",
    "print(a*b)"
   ]
  },
  {
   "cell_type": "code",
   "execution_count": 75,
   "id": "abea78ef",
   "metadata": {},
   "outputs": [
    {
     "name": "stdout",
     "output_type": "stream",
     "text": [
      "[1. 2. 3.]\n",
      "[2. 2. 2.]\n"
     ]
    },
    {
     "data": {
      "text/plain": [
       "array([2., 4., 6.])"
      ]
     },
     "execution_count": 75,
     "metadata": {},
     "output_type": "execute_result"
    }
   ],
   "source": [
    "a=np.array([1,2,3],dtype='float64')\n",
    "print(a)\n",
    "\n",
    "b=np.array([2,2,2],dtype='float64')\n",
    "print(b)\n",
    "\n",
    "a*b"
   ]
  },
  {
   "cell_type": "code",
   "execution_count": 76,
   "id": "1bf01e43",
   "metadata": {},
   "outputs": [
    {
     "name": "stdout",
     "output_type": "stream",
     "text": [
      "[20 30 40 50]\n",
      "[2.]\n",
      "[ 40.  60.  80. 100.]\n"
     ]
    }
   ],
   "source": [
    "a=np.array([20,30,40,50])\n",
    "b=np.array([2],dtype='float64')\n",
    "print(a)\n",
    "print(b)\n",
    "print(a*b)"
   ]
  },
  {
   "cell_type": "code",
   "execution_count": 78,
   "id": "55b67608",
   "metadata": {},
   "outputs": [
    {
     "name": "stdout",
     "output_type": "stream",
     "text": [
      "[1 2 3 4]\n",
      "[1 2 3 4]\n",
      "SUM : [2 4 6 8]\n"
     ]
    }
   ],
   "source": [
    "a=np.array([1,2,3,4])\n",
    "b=np.arange(1,5,1)\n",
    "print(a)\n",
    "print(b)\n",
    "\n",
    "print(\"SUM :\",a+b)"
   ]
  },
  {
   "cell_type": "code",
   "execution_count": 79,
   "id": "48642080",
   "metadata": {},
   "outputs": [
    {
     "name": "stdout",
     "output_type": "stream",
     "text": [
      "[0 0 0 0]\n"
     ]
    }
   ],
   "source": [
    "print(a-b)"
   ]
  },
  {
   "cell_type": "code",
   "execution_count": 84,
   "id": "8bc8badd",
   "metadata": {},
   "outputs": [
    {
     "data": {
      "text/plain": [
       "array([[0.03007113, 0.63083033, 0.17820898],\n",
       "       [0.99944661, 0.65107451, 0.55246795]])"
      ]
     },
     "execution_count": 84,
     "metadata": {},
     "output_type": "execute_result"
    }
   ],
   "source": [
    "# will genrate all random number\n",
    "\n",
    "b=np.random.random([2,3])\n",
    "b"
   ]
  },
  {
   "cell_type": "code",
   "execution_count": 85,
   "id": "45df5a35",
   "metadata": {},
   "outputs": [
    {
     "data": {
      "text/plain": [
       "array([[1.03007113, 1.63083033, 1.17820898],\n",
       "       [1.99944661, 1.65107451, 1.55246795]])"
      ]
     },
     "execution_count": 85,
     "metadata": {},
     "output_type": "execute_result"
    }
   ],
   "source": [
    "c=np.ones([2,3])\n",
    "\n",
    "b+c"
   ]
  },
  {
   "cell_type": "code",
   "execution_count": 99,
   "id": "bbc8dc24",
   "metadata": {},
   "outputs": [
    {
     "name": "stdout",
     "output_type": "stream",
     "text": [
      "SUM\n",
      " [[1.03007113 2.63083033 3.17820898]\n",
      " [1.99944661 2.65107451 3.55246795]]\n",
      "\n",
      "SUBS\n",
      " [[9.69928873e-01 1.36916967e+00 2.82179102e+00]\n",
      " [5.53394925e-04 1.34892549e+00 2.44753205e+00]]\n",
      "\n",
      "MULTIFY\n",
      " [[0.03007113 1.26166066 0.53462695]\n",
      " [0.99944661 1.30214901 1.65740386]]\n"
     ]
    }
   ],
   "source": [
    "print(\"SUM\\n\",b+c)\n",
    "print(\"\\nSUBS\\n\",c-b)\n",
    "print(\"\\nMULTIFY\\n\",c*b)"
   ]
  },
  {
   "cell_type": "markdown",
   "id": "0a64251f",
   "metadata": {},
   "source": [
    "# Universal Function"
   ]
  },
  {
   "cell_type": "code",
   "execution_count": 88,
   "id": "98f5da3f",
   "metadata": {},
   "outputs": [
    {
     "data": {
      "text/plain": [
       "array([0, 1, 2])"
      ]
     },
     "execution_count": 88,
     "metadata": {},
     "output_type": "execute_result"
    }
   ],
   "source": [
    "B=np.arange(3)\n",
    "B"
   ]
  },
  {
   "cell_type": "code",
   "execution_count": 89,
   "id": "5d5ed629",
   "metadata": {},
   "outputs": [
    {
     "data": {
      "text/plain": [
       "array([1.        , 2.71828183, 7.3890561 ])"
      ]
     },
     "execution_count": 89,
     "metadata": {},
     "output_type": "execute_result"
    }
   ],
   "source": [
    "np.exp(B)"
   ]
  },
  {
   "cell_type": "code",
   "execution_count": 90,
   "id": "22a5b3a6",
   "metadata": {},
   "outputs": [
    {
     "data": {
      "text/plain": [
       "array([0.        , 1.        , 1.41421356])"
      ]
     },
     "execution_count": 90,
     "metadata": {},
     "output_type": "execute_result"
    }
   ],
   "source": [
    "np.sqrt(B)"
   ]
  },
  {
   "cell_type": "code",
   "execution_count": 91,
   "id": "4ee97d7b",
   "metadata": {},
   "outputs": [
    {
     "data": {
      "text/plain": [
       "array([1, 3, 5])"
      ]
     },
     "execution_count": 91,
     "metadata": {},
     "output_type": "execute_result"
    }
   ],
   "source": [
    "c=np.array([1,2,3])\n",
    "np.add(B,c)"
   ]
  },
  {
   "cell_type": "code",
   "execution_count": 92,
   "id": "50648518",
   "metadata": {},
   "outputs": [
    {
     "data": {
      "text/plain": [
       "array([-1, -1, -1])"
      ]
     },
     "execution_count": 92,
     "metadata": {},
     "output_type": "execute_result"
    }
   ],
   "source": [
    "np.subtract(B,c)"
   ]
  },
  {
   "cell_type": "markdown",
   "id": "f5243caa",
   "metadata": {},
   "source": [
    "## Indexing/ Slicing"
   ]
  },
  {
   "cell_type": "code",
   "execution_count": 93,
   "id": "1a81edfc",
   "metadata": {},
   "outputs": [
    {
     "name": "stdout",
     "output_type": "stream",
     "text": [
      "[0 1 2 3 4 5 6 7 8 9]\n",
      "[2 3 4]\n",
      "[0 1 2 3 4]\n",
      "9\n",
      "[7 8]\n"
     ]
    }
   ],
   "source": [
    "f=np.arange(10)\n",
    "print(f)\n",
    "print(f[2:5])\n",
    "print(f[:5])\n",
    "print(f[-1])\n",
    "print(f[-3:-1])"
   ]
  },
  {
   "cell_type": "markdown",
   "id": "7160e892",
   "metadata": {},
   "source": [
    "### NOTE :\n",
    "\n",
    "- For Missing value  we use {np.nan}"
   ]
  },
  {
   "cell_type": "code",
   "execution_count": 95,
   "id": "bceb532a",
   "metadata": {},
   "outputs": [
    {
     "data": {
      "text/plain": [
       "array([[ 1., nan,  3.],\n",
       "       [ 4., nan,  5.]])"
      ]
     },
     "execution_count": 95,
     "metadata": {},
     "output_type": "execute_result"
    }
   ],
   "source": [
    "d1=np.array([[1,np.nan,3],[4,np.nan,5]])\n",
    "d1"
   ]
  },
  {
   "cell_type": "markdown",
   "id": "89d666c1",
   "metadata": {},
   "source": [
    "# Rand Function"
   ]
  },
  {
   "cell_type": "code",
   "execution_count": 97,
   "id": "9bc59c4c",
   "metadata": {},
   "outputs": [
    {
     "data": {
      "text/plain": [
       "array([[0.96074151, 0.93134394, 0.3717247 , 0.97174196],\n",
       "       [0.90929474, 0.44336226, 0.79978327, 0.77137776],\n",
       "       [0.93278569, 0.29338586, 0.86312414, 0.03744978],\n",
       "       [0.88015017, 0.94495173, 0.05753798, 0.07942272]])"
      ]
     },
     "execution_count": 97,
     "metadata": {},
     "output_type": "execute_result"
    }
   ],
   "source": [
    "# will generate only positive numbers\n",
    "np.random.rand(4,4)"
   ]
  },
  {
   "cell_type": "markdown",
   "id": "cad1b3a0",
   "metadata": {},
   "source": [
    "# Randn Function"
   ]
  },
  {
   "cell_type": "code",
   "execution_count": 98,
   "id": "bfb74e96",
   "metadata": {},
   "outputs": [
    {
     "data": {
      "text/plain": [
       "array([[-0.52941771, -0.13647639,  0.05245058, -1.20533735, -0.2698697 ],\n",
       "       [ 0.28936241, -1.2424707 ,  0.30038599,  0.42411881,  0.44125465],\n",
       "       [-0.58610356,  0.68716095,  0.52838447, -0.81454249,  0.86744024],\n",
       "       [-0.41681855, -0.54348159, -0.95052065, -0.27212357,  0.6029774 ]])"
      ]
     },
     "execution_count": 98,
     "metadata": {},
     "output_type": "execute_result"
    }
   ],
   "source": [
    "# will generate negative and positive number\n",
    "np.random.randn(4,5)"
   ]
  },
  {
   "cell_type": "markdown",
   "id": "566014b9",
   "metadata": {},
   "source": [
    "\"NOTE\"\n",
    "\n",
    "- We use Randn function to genrate any number for normal distribution in thr given dimenssion format"
   ]
  },
  {
   "cell_type": "markdown",
   "id": "744e2ca6",
   "metadata": {},
   "source": [
    "____________________"
   ]
  },
  {
   "cell_type": "markdown",
   "id": "d260acda",
   "metadata": {},
   "source": [
    "------------------"
   ]
  },
  {
   "cell_type": "markdown",
   "id": "67f2f37a",
   "metadata": {},
   "source": [
    "........................................    **LMS MODULE**    .............................................."
   ]
  },
  {
   "cell_type": "markdown",
   "id": "6774de7e",
   "metadata": {},
   "source": [
    "## Numpy Array"
   ]
  },
  {
   "cell_type": "markdown",
   "id": "eddd9188",
   "metadata": {},
   "source": [
    "### Array: \n",
    "\n",
    "An array is a collection of items of same data type stored at contiguous memory locations"
   ]
  },
  {
   "cell_type": "code",
   "execution_count": 1,
   "id": "720cef4c",
   "metadata": {},
   "outputs": [],
   "source": [
    "import numpy as np"
   ]
  },
  {
   "cell_type": "code",
   "execution_count": 2,
   "id": "89f11454",
   "metadata": {},
   "outputs": [
    {
     "data": {
      "text/plain": [
       "array([<class 'list'>], dtype=object)"
      ]
     },
     "execution_count": 2,
     "metadata": {},
     "output_type": "execute_result"
    }
   ],
   "source": [
    "np.array([list])"
   ]
  },
  {
   "cell_type": "code",
   "execution_count": 3,
   "id": "1c55200e",
   "metadata": {},
   "outputs": [
    {
     "name": "stdout",
     "output_type": "stream",
     "text": [
      "[[1. 2. 3.]\n",
      " [3. 3. 3.]]\n"
     ]
    },
    {
     "data": {
      "text/plain": [
       "dtype('float64')"
      ]
     },
     "execution_count": 3,
     "metadata": {},
     "output_type": "execute_result"
    }
   ],
   "source": [
    "## Changing dtype\n",
    "\n",
    "a=np.array([[1,2,3],[3,3,3]],dtype='float')\n",
    "print(a)\n",
    "a.dtype"
   ]
  },
  {
   "cell_type": "code",
   "execution_count": 6,
   "id": "c61a85b2",
   "metadata": {},
   "outputs": [
    {
     "data": {
      "text/plain": [
       "array([[1, 2, 3],\n",
       "       [1, 2, 3]])"
      ]
     },
     "execution_count": 6,
     "metadata": {},
     "output_type": "execute_result"
    }
   ],
   "source": [
    "## create matrix\n",
    "\n",
    "a=np.array(np.mat('1 2 3;1 2 3')) # columns of row1 and row2 has to hold same number of data, else it would throw error\n",
    "a                  "
   ]
  },
  {
   "cell_type": "code",
   "execution_count": 7,
   "id": "abd55b2d",
   "metadata": {},
   "outputs": [
    {
     "name": "stdout",
     "output_type": "stream",
     "text": [
      "[1 2 3]\n",
      "<class 'numpy.ndarray'>\n"
     ]
    }
   ],
   "source": [
    "# convert a list into array\n",
    "\n",
    "a=[1,2,3]\n",
    "\n",
    "b=np.array(a)\n",
    "print(b)\n",
    "print(type(b))"
   ]
  },
  {
   "cell_type": "code",
   "execution_count": 8,
   "id": "03024146",
   "metadata": {},
   "outputs": [
    {
     "data": {
      "text/plain": [
       "array([1, 2, 3])"
      ]
     },
     "execution_count": 8,
     "metadata": {},
     "output_type": "execute_result"
    }
   ],
   "source": [
    "# making a copy of an array\n",
    "\n",
    "c=np.asarray(b)\n",
    "\n",
    "c"
   ]
  },
  {
   "cell_type": "markdown",
   "id": "7234e0c3",
   "metadata": {},
   "source": [
    "## Numpy Dtypes"
   ]
  },
  {
   "cell_type": "code",
   "execution_count": 11,
   "id": "a54c90e1",
   "metadata": {},
   "outputs": [
    {
     "name": "stdout",
     "output_type": "stream",
     "text": [
      "[[1 2 3]\n",
      " [4 5 6]\n",
      " [7 8 9]]\n"
     ]
    }
   ],
   "source": [
    "my_mat=np.array(np.mat('1 2 3;4 5 6;7 8 9')) # np.nan can't be used in string format\n",
    "\n",
    "# printing array named my_mat\n",
    "print(my_mat)"
   ]
  },
  {
   "cell_type": "code",
   "execution_count": 13,
   "id": "2fb3f968",
   "metadata": {},
   "outputs": [
    {
     "name": "stdout",
     "output_type": "stream",
     "text": [
      "Type/Class of the Matrix  <class 'numpy.ndarray'>\n",
      "Dimenssion  2\n",
      "Shape  (3, 3)\n",
      "Size  9\n",
      "Data Type  int32\n",
      "Memory consumed by Each element  4\n"
     ]
    }
   ],
   "source": [
    "print(\"Type/Class of the Matrix \",type(my_mat)) # will show the class of the object\n",
    "print(\"Dimenssion \",my_mat.ndim) # will show the dimension of the matrix\n",
    "print(\"Shape \",my_mat.shape) # shows 3 rows and 3 columns\n",
    "print(\"Size \",my_mat.size) #  shows the total number of elements\n",
    "print(\"Data Type \",my_mat.dtype) # shows the data type of the inserted data like float, int\n",
    "print(\"Memory consumed by Each element \",my_mat.itemsize) # shows the memory consumed by each element"
   ]
  },
  {
   "cell_type": "markdown",
   "id": "232df80e",
   "metadata": {},
   "source": [
    "## Numpy Arange and linespace"
   ]
  },
  {
   "cell_type": "markdown",
   "id": "c8cf7832",
   "metadata": {},
   "source": [
    "In Python we have range where we have start/stop/ Jump, We have the same thing as (A...range function) in Numpy"
   ]
  },
  {
   "cell_type": "code",
   "execution_count": 14,
   "id": "be732833",
   "metadata": {},
   "outputs": [
    {
     "data": {
      "text/plain": [
       "[0, 1, 2, 3, 4]"
      ]
     },
     "execution_count": 14,
     "metadata": {},
     "output_type": "execute_result"
    }
   ],
   "source": [
    "list(range(0,5)) # will show the data till 0 to 4 element"
   ]
  },
  {
   "cell_type": "code",
   "execution_count": 15,
   "id": "af30d077",
   "metadata": {},
   "outputs": [
    {
     "ename": "TypeError",
     "evalue": "'float' object cannot be interpreted as an integer",
     "output_type": "error",
     "traceback": [
      "\u001b[1;31m---------------------------------------------------------------------------\u001b[0m",
      "\u001b[1;31mTypeError\u001b[0m                                 Traceback (most recent call last)",
      "\u001b[1;32m~\\AppData\\Local\\Temp\\ipykernel_5324\\338057446.py\u001b[0m in \u001b[0;36m<module>\u001b[1;34m\u001b[0m\n\u001b[0;32m      1\u001b[0m \u001b[1;31m# But Range function won't work if those data is provided in float: example\u001b[0m\u001b[1;33m\u001b[0m\u001b[1;33m\u001b[0m\u001b[0m\n\u001b[1;32m----> 2\u001b[1;33m \u001b[0mlist\u001b[0m\u001b[1;33m(\u001b[0m\u001b[0mrange\u001b[0m\u001b[1;33m(\u001b[0m\u001b[1;36m0\u001b[0m\u001b[1;33m,\u001b[0m\u001b[1;36m5\u001b[0m\u001b[1;33m,\u001b[0m\u001b[1;36m0.4\u001b[0m\u001b[1;33m)\u001b[0m\u001b[1;33m)\u001b[0m\u001b[1;33m\u001b[0m\u001b[1;33m\u001b[0m\u001b[0m\n\u001b[0m",
      "\u001b[1;31mTypeError\u001b[0m: 'float' object cannot be interpreted as an integer"
     ]
    }
   ],
   "source": [
    "# But Range function won't work if those data is provided in float: example\n",
    "\n",
    "list(range(0,5,0.4))"
   ]
  },
  {
   "cell_type": "markdown",
   "id": "aff7a80e",
   "metadata": {},
   "source": [
    "- However we see that float doesn't work with range function, Hence we would use arange function which is in numPy"
   ]
  },
  {
   "cell_type": "code",
   "execution_count": 19,
   "id": "14654135",
   "metadata": {},
   "outputs": [
    {
     "name": "stdout",
     "output_type": "stream",
     "text": [
      "[0.  0.4 0.8 1.2 1.6 2.  2.4 2.8 3.2 3.6 4.  4.4 4.8]\n"
     ]
    }
   ],
   "source": [
    "# example 2\n",
    "\n",
    "print(np.arange(0,5,0.4))"
   ]
  },
  {
   "cell_type": "code",
   "execution_count": 21,
   "id": "e9ca7566",
   "metadata": {},
   "outputs": [
    {
     "name": "stdout",
     "output_type": "stream",
     "text": [
      "[0.  0.4 0.8 1.2 1.6 2.  2.4 2.8 3.2 3.6 4.  4.4 4.8 5.2]\n"
     ]
    }
   ],
   "source": [
    "# example 3\n",
    "a=np.arange(0,5.5,0.4)\n",
    "print(a)"
   ]
  },
  {
   "cell_type": "markdown",
   "id": "62daf80c",
   "metadata": {},
   "source": [
    "## Reverse Order"
   ]
  },
  {
   "cell_type": "code",
   "execution_count": 23,
   "id": "a832df3f",
   "metadata": {},
   "outputs": [
    {
     "name": "stdout",
     "output_type": "stream",
     "text": [
      "[5.2 4.8 4.4 4.  3.6 3.2 2.8 2.4 2.  1.6 1.2 0.8 0.4 0. ]\n"
     ]
    }
   ],
   "source": [
    "# Reverse Order [start/end/-1(means backword direction)]\n",
    "\n",
    "print(a[::-1]) # all reversed"
   ]
  },
  {
   "cell_type": "code",
   "execution_count": 30,
   "id": "bc399a21",
   "metadata": {},
   "outputs": [
    {
     "data": {
      "text/plain": [
       "array([0.8, 0.4, 0. ])"
      ]
     },
     "execution_count": 30,
     "metadata": {},
     "output_type": "execute_result"
    }
   ],
   "source": [
    "a[2::-1] # start from index 2 in back word direction"
   ]
  },
  {
   "cell_type": "markdown",
   "id": "c3fe5792",
   "metadata": {},
   "source": [
    "#### NOTE:\n",
    "    \n",
    "    To generate reverse number the start point should be high and end point to be low"
   ]
  },
  {
   "cell_type": "code",
   "execution_count": 31,
   "id": "f590152a",
   "metadata": {},
   "outputs": [
    {
     "data": {
      "text/plain": [
       "array([50, 45, 40, 35, 30, 25, 20, 15, 10,  5])"
      ]
     },
     "execution_count": 31,
     "metadata": {},
     "output_type": "execute_result"
    }
   ],
   "source": [
    "# will generate the data from 50 to 5 as 0 is the last element\n",
    "\n",
    "np.arange(50,0,-5)"
   ]
  },
  {
   "cell_type": "code",
   "execution_count": 32,
   "id": "90c38e91",
   "metadata": {},
   "outputs": [
    {
     "data": {
      "text/plain": [
       "array([], dtype=int32)"
      ]
     },
     "execution_count": 32,
     "metadata": {},
     "output_type": "execute_result"
    }
   ],
   "source": [
    "# will not generate the data as 0 can be but to minus but reching positive 50 won't be possible hence its empty\n",
    "\n",
    "np.arange(0,50,-5)"
   ]
  },
  {
   "cell_type": "markdown",
   "id": "0489180f",
   "metadata": {},
   "source": [
    "## \"Linearly spaced\""
   ]
  },
  {
   "cell_type": "code",
   "execution_count": 33,
   "id": "e0342f93",
   "metadata": {},
   "outputs": [
    {
     "name": "stdout",
     "output_type": "stream",
     "text": [
      "Printing spaced numbers between 1 to 5 \n",
      "---------------------------------\n",
      "[10.  17.5 25.  32.5 40. ]\n"
     ]
    }
   ],
   "source": [
    "print(\"Printing spaced numbers between 1 to 5 \\n---------------------------------\")\n",
    "print(np.linspace(10,40,5)) # create 5 numbers with equal space (linspace means Linnearly spaced) "
   ]
  },
  {
   "cell_type": "code",
   "execution_count": 34,
   "id": "faf5e196",
   "metadata": {},
   "outputs": [
    {
     "name": "stdout",
     "output_type": "stream",
     "text": [
      "(array([2.        , 2.33333333, 2.66666667, 3.        ]), 0.3333333333333333)\n"
     ]
    }
   ],
   "source": [
    "# include end point and check space between the points\n",
    "print(np.linspace(2.0,3.0, num=4, endpoint=True, retstep=True))"
   ]
  },
  {
   "cell_type": "markdown",
   "id": "ea56a01a",
   "metadata": {},
   "source": [
    "#### NOTE:\n",
    "\n",
    "- endpoint is true means will show end point \n",
    "- retstep will show the space/stepsize taken "
   ]
  },
  {
   "cell_type": "markdown",
   "id": "f7916e28",
   "metadata": {},
   "source": [
    "## Matrix creation\n",
    "\n",
    "we can't create the Series of zeroes and Ones with the help of linspace, range or arange function. We use np.zeros to create zeros"
   ]
  },
  {
   "cell_type": "code",
   "execution_count": 36,
   "id": "6ea4cab9",
   "metadata": {},
   "outputs": [
    {
     "name": "stdout",
     "output_type": "stream",
     "text": [
      "Vector of zeroes\n",
      "---------------------------------\n",
      "[0. 0. 0. 0. 0.]\n"
     ]
    }
   ],
   "source": [
    "print(\"Vector of zeroes\\n---------------------------------\")\n",
    "print(np.zeros(5))"
   ]
  },
  {
   "cell_type": "code",
   "execution_count": 37,
   "id": "fa47dae2",
   "metadata": {},
   "outputs": [
    {
     "name": "stdout",
     "output_type": "stream",
     "text": [
      "[[0. 0. 0. 0. 0. 0.]\n",
      " [0. 0. 0. 0. 0. 0.]\n",
      " [0. 0. 0. 0. 0. 0.]\n",
      " [0. 0. 0. 0. 0. 0.]\n",
      " [0. 0. 0. 0. 0. 0.]]\n"
     ]
    }
   ],
   "source": [
    "# generate the matrix of matrix\n",
    "\n",
    "print(np.zeros((5,6))) # 5 rows and 6 column"
   ]
  },
  {
   "cell_type": "code",
   "execution_count": 39,
   "id": "3d28e2e0",
   "metadata": {},
   "outputs": [
    {
     "name": "stdout",
     "output_type": "stream",
     "text": [
      "Matrix of ones \n",
      "....................................\n",
      "[1. 1. 1. 1. 1.]\n",
      "\n",
      "Type:  <class 'numpy.ndarray'>\n",
      "Dimension:  1\n",
      "Size:  5\n",
      "Shape:  (5,)\n"
     ]
    }
   ],
   "source": [
    "# Matrix of ones in 1 Dimension\n",
    "\n",
    "print(\"Matrix of ones \\n....................................\")\n",
    "a=np.ones(5)\n",
    "print(a)\n",
    "print(\"\\nType: \",type(a))\n",
    "print(\"Dimension: \",a.ndim)\n",
    "print(\"Size: \",a.size)\n",
    "print(\"Shape: \",a.shape)\n"
   ]
  },
  {
   "cell_type": "code",
   "execution_count": 42,
   "id": "541419fc",
   "metadata": {},
   "outputs": [
    {
     "name": "stdout",
     "output_type": "stream",
     "text": [
      "Matrix of Ones In 2 Dimensions\n",
      "...........................\n",
      "[[1. 1. 1. 1. 1. 1.]\n",
      " [1. 1. 1. 1. 1. 1.]\n",
      " [1. 1. 1. 1. 1. 1.]\n",
      " [1. 1. 1. 1. 1. 1.]\n",
      " [1. 1. 1. 1. 1. 1.]]\n",
      "\n",
      "Type:  <class 'numpy.ndarray'>\n",
      "Dimension:  2\n",
      "Size:  30\n",
      "Shape:  (5, 6)\n"
     ]
    }
   ],
   "source": [
    "# Matrix of ones in 2 Dimension\n",
    "\n",
    "print(\"Matrix of Ones In 2 Dimensions\\n...........................\")\n",
    "a=np.ones((5,6))\n",
    "print(a)\n",
    "print(\"\\nType: \",type(a))\n",
    "print(\"Dimension: \",a.ndim)\n",
    "print(\"Size: \",a.size)\n",
    "print(\"Shape: \",a.shape)"
   ]
  },
  {
   "cell_type": "code",
   "execution_count": 46,
   "id": "2b9cb47c",
   "metadata": {},
   "outputs": [
    {
     "name": "stdout",
     "output_type": "stream",
     "text": [
      "Matrix of 5 by using ones\n",
      "...................................\n",
      "[[5. 5. 5. 5. 5.]\n",
      " [5. 5. 5. 5. 5.]\n",
      " [5. 5. 5. 5. 5.]\n",
      " [5. 5. 5. 5. 5.]]\n",
      "\n",
      "type:  <class 'numpy.ndarray'>\n",
      "Dimension:  2\n",
      "Shape:  (4, 5)\n",
      "Size:  20\n",
      "Data Type:  float64\n",
      "Memory Consumed by each element:  8\n",
      "Max:  5.0\n",
      "Min:  5.0\n",
      "Reshape The structure in Matrix of (2 rows and 10)\n",
      "............................................\n",
      " [[5. 5. 5. 5. 5. 5. 5. 5. 5. 5.]\n",
      " [5. 5. 5. 5. 5. 5. 5. 5. 5. 5.]]\n"
     ]
    }
   ],
   "source": [
    "# print Matrix of 5 by using ones\n",
    "\n",
    "print(\"Matrix of 5 by using ones\\n...................................\")\n",
    "a=5*np.ones((4,5)) # 4 rows and 5 columns\n",
    "print(a)\n",
    "\n",
    "print(\"\\ntype: \",type(a))\n",
    "print(\"Dimension: \",a.ndim)\n",
    "print(\"Shape: \",a.shape)\n",
    "print(\"Size: \",a.size)\n",
    "print(\"Data Type: \",a.dtype)\n",
    "print(\"Memory Consumed by each element: \",a.itemsize)\n",
    "print(\"Max: \",a.max())\n",
    "print(\"Min: \",a.min())\n",
    "print(\"Reshape The structure in Matrix of (2 rows and 10)\\n............................................\\n\",a.reshape(2,10))"
   ]
  },
  {
   "cell_type": "markdown",
   "id": "41d70484",
   "metadata": {},
   "source": [
    "## Contruct Diagonal matrix"
   ]
  },
  {
   "cell_type": "code",
   "execution_count": 47,
   "id": "7971a589",
   "metadata": {},
   "outputs": [
    {
     "name": "stdout",
     "output_type": "stream",
     "text": [
      "[[ 0  1  2  3  4  5]\n",
      " [ 6  7  8  9 10 11]\n",
      " [12 13 14 15 16 17]\n",
      " [18 19 20 21 22 23]\n",
      " [24 25 26 27 28 29]]\n"
     ]
    }
   ],
   "source": [
    "# arange can generate float elements starts from 0 till minus 1 to end point\n",
    "x=np.arange(30).reshape(5,6) # reshape to 5 rows and 6 columns\n",
    "print(x)"
   ]
  },
  {
   "cell_type": "markdown",
   "id": "ef607451",
   "metadata": {},
   "source": [
    "## Random Number Generation"
   ]
  },
  {
   "cell_type": "markdown",
   "id": "6971b6f8",
   "metadata": {},
   "source": [
    "**Are of 3 type**\n",
    "\n",
    "- np.random.rand : Rand would generate Uniform distribution data **Uniform Distribution**\n",
    "- np.random.randn :  Would genrate the numbers postive and negative **Normal Distribution**\n",
    "- np.random.randint : "
   ]
  },
  {
   "cell_type": "markdown",
   "id": "3606054c",
   "metadata": {},
   "source": [
    "np.random.seed(5) # any number has its own randomness and will generate number \n",
    "\n",
    "*IF we don't use seeding it would be hard to trace the generated number *"
   ]
  },
  {
   "cell_type": "code",
   "execution_count": 52,
   "id": "61854866",
   "metadata": {},
   "outputs": [
    {
     "name": "stdout",
     "output_type": "stream",
     "text": [
      "Random will generate random data and rand Would generate the **Uniform distribution** of data\n",
      " --------------------------------------------------------------------------------\n",
      "[[0.57537152 0.56699862 0.70021516 0.83212093 0.22891763 0.09535153]\n",
      " [0.11660445 0.20099284 0.02104168 0.00975941 0.15585286 0.60178002]\n",
      " [0.81663441 0.23866921 0.28713188 0.13902332 0.07148019 0.74789165]\n",
      " [0.42102393 0.49943975 0.48659862 0.53493703 0.32995791 0.59035303]\n",
      " [0.0671327  0.44712007 0.42718094 0.64154528 0.3731534  0.07922459]\n",
      " [0.36033525 0.85158885 0.20381484 0.00335507 0.17987386 0.57994032]\n",
      " [0.23607149 0.93523925 0.95760887 0.01182194 0.34200061 0.55247062]\n",
      " [0.59355384 0.781037   0.60330914 0.61892765 0.53886157 0.51064042]\n",
      " [0.69933214 0.74526671 0.6510183  0.30302368 0.9165439  0.55450849]\n",
      " [0.53501219 0.43163305 0.89054006 0.92280741 0.20020714 0.44846104]]\n"
     ]
    }
   ],
   "source": [
    "print(\"Random will generate random data and rand Would generate the **Uniform distribution** of data\\n\",\"-\"*80)\n",
    "\n",
    "print(np.random.rand(10,6))"
   ]
  },
  {
   "cell_type": "code",
   "execution_count": 57,
   "id": "91c65205",
   "metadata": {},
   "outputs": [
    {
     "name": "stdout",
     "output_type": "stream",
     "text": [
      "Random number will be generated numbers which has ** NORMAL DISTRIBUTION with zero mean and std=1 **\n",
      " ----------------------------------------------------------------------------------------------------\n",
      "[[-1.4047922  -0.50299628 -0.11989347  0.64098353 -1.29913799 -0.67949243]\n",
      " [ 0.39122107 -0.73064677 -0.77159447 -0.06141736  2.59573155  1.68768329]\n",
      " [-0.23582115  1.95465498  0.85795372  0.9568722  -1.40003821  0.46281667]\n",
      " [ 0.31816145  1.43263667  0.84457053  1.48774987  1.6763097   1.25375055]\n",
      " [ 1.29617147 -0.83825857 -0.22754969 -1.70496983 -0.52219719  1.46831541]]\n"
     ]
    }
   ],
   "source": [
    "print(\"Random number will be generated numbers which has ** NORMAL DISTRIBUTION with zero mean and std=1 **\\n\",'-'*100)\n",
    "print(np.random.randn(5,6)) # 5 rows and 6 columns"
   ]
  },
  {
   "cell_type": "code",
   "execution_count": 60,
   "id": "1f212edf",
   "metadata": {},
   "outputs": [
    {
     "name": "stdout",
     "output_type": "stream",
     "text": [
      "Random Integer Vector\n",
      "\n",
      " [ 6 18 16  9 17  9 15 17 10 11]\n"
     ]
    }
   ],
   "source": [
    "# RANDINT has to pick number from start, till stop, and number of elements to be drawn\n",
    "\n",
    "print(\"Random Integer Vector\\n\\n\",np.random.randint(5,20,10)) # pick up 10 numbers from 5 to 20 can be same number as its picked randomly"
   ]
  },
  {
   "cell_type": "markdown",
   "id": "e38484ab",
   "metadata": {},
   "source": [
    "- NOTE: 10 is the size"
   ]
  },
  {
   "cell_type": "code",
   "execution_count": 64,
   "id": "b64a6d80",
   "metadata": {},
   "outputs": [
    {
     "name": "stdout",
     "output_type": "stream",
     "text": [
      "print random  Integer Matrix\n",
      "[[14 18  5  7  8  9]\n",
      " [ 7 19  5 15  7 19]\n",
      " [ 6 18 19  7 10 15]\n",
      " [15  6 14 16 16 17]\n",
      " [12  8 13 18 17  7]]\n"
     ]
    }
   ],
   "source": [
    "# Randint\n",
    "print(\"print random  Integer Matrix\")\n",
    "print(np.random.randint(5,20,size=(5,6))) # here 5 start,20 end and matrix of (5 rows and 6 columns)"
   ]
  },
  {
   "cell_type": "markdown",
   "id": "1705b26f",
   "metadata": {},
   "source": [
    "## Numpy Condition"
   ]
  },
  {
   "cell_type": "code",
   "execution_count": 66,
   "id": "a3550a22",
   "metadata": {},
   "outputs": [
    {
     "data": {
      "text/plain": [
       "array([ 1, 29, 27, 18, 31,  3, 31,  5, 36, 26])"
      ]
     },
     "execution_count": 66,
     "metadata": {},
     "output_type": "execute_result"
    }
   ],
   "source": [
    "# random integer\n",
    "a=np.random.randint(1,40,10)\n",
    "a"
   ]
  },
  {
   "cell_type": "code",
   "execution_count": 67,
   "id": "28913281",
   "metadata": {},
   "outputs": [
    {
     "name": "stdout",
     "output_type": "stream",
     "text": [
      "[20  1  5  9 14  9 13 19 18 29]\n"
     ]
    }
   ],
   "source": [
    "# generate 10 numbers between 1 to 30\n",
    "\n",
    "b=np.random.randint(1,30,10)\n",
    "print(b)"
   ]
  },
  {
   "cell_type": "markdown",
   "id": "46efa9ea",
   "metadata": {},
   "source": [
    "## np.clip"
   ]
  },
  {
   "cell_type": "markdown",
   "id": "0be5f78c",
   "metadata": {},
   "source": [
    "1. np.clip: replace data with fixed number"
   ]
  },
  {
   "cell_type": "code",
   "execution_count": 70,
   "id": "5bec9d54",
   "metadata": {},
   "outputs": [
    {
     "data": {
      "text/plain": [
       "array([20, 10, 10, 10, 14, 10, 13, 19, 18, 20])"
      ]
     },
     "execution_count": 70,
     "metadata": {},
     "output_type": "execute_result"
    }
   ],
   "source": [
    "# replace data with fixed numbers \n",
    "\n",
    "np.clip(b, a_min=10, a_max=20) # will make data less than 10 to 10 and max will make data above 20 as 20"
   ]
  },
  {
   "cell_type": "code",
   "execution_count": 71,
   "id": "d0870683",
   "metadata": {},
   "outputs": [
    {
     "data": {
      "text/plain": [
       "array([15,  9,  9,  9, 14,  9, 13, 15, 15, 15])"
      ]
     },
     "execution_count": 71,
     "metadata": {},
     "output_type": "execute_result"
    }
   ],
   "source": [
    "# replace data below 9 as 9 and more than 15 as 15\n",
    "\n",
    "np.clip(b,a_max=15,a_min=9)"
   ]
  },
  {
   "cell_type": "code",
   "execution_count": 74,
   "id": "9ae116e1",
   "metadata": {},
   "outputs": [
    {
     "data": {
      "text/plain": [
       "(array([1, 2, 3, 5], dtype=int64),)"
      ]
     },
     "execution_count": 74,
     "metadata": {},
     "output_type": "execute_result"
    }
   ],
   "source": [
    "# checking the index position  where b is less than 10\n",
    "\n",
    "np.where(b<10) # checking where b is less than 10"
   ]
  },
  {
   "cell_type": "code",
   "execution_count": 75,
   "id": "bbed5ab3",
   "metadata": {},
   "outputs": [
    {
     "data": {
      "text/plain": [
       "(array([0, 4, 6, 7, 8, 9], dtype=int64),)"
      ]
     },
     "execution_count": 75,
     "metadata": {},
     "output_type": "execute_result"
    }
   ],
   "source": [
    "# checking the index position where b is more than 10\n",
    "\n",
    "np.where(b>10)"
   ]
  },
  {
   "cell_type": "code",
   "execution_count": 77,
   "id": "20202d04",
   "metadata": {},
   "outputs": [
    {
     "data": {
      "text/plain": [
       "(array([0, 9], dtype=int64),)"
      ]
     },
     "execution_count": 77,
     "metadata": {},
     "output_type": "execute_result"
    }
   ],
   "source": [
    "# checking the postion where b is greater then or equals to 20\n",
    "\n",
    "np.where(b>=20)"
   ]
  },
  {
   "cell_type": "markdown",
   "id": "a696cf3a",
   "metadata": {},
   "source": [
    "# RE-Shape"
   ]
  },
  {
   "cell_type": "code",
   "execution_count": 78,
   "id": "34ef5df8",
   "metadata": {},
   "outputs": [],
   "source": [
    "# creating instance \n",
    "\n",
    "import numpy as np\n",
    "\n",
    "# importing randint from numpy.random \n",
    "from numpy.random import randint as ri"
   ]
  },
  {
   "cell_type": "code",
   "execution_count": 85,
   "id": "14696d34",
   "metadata": {},
   "outputs": [
    {
     "name": "stdout",
     "output_type": "stream",
     "text": [
      "Calling 10 random integers by using randint\n",
      "-------------------------------------\n",
      " [97 71 77 59 34 69 24 34 87 47 23 47 98  7 80 96 32 37 73 65 64 22 32 45\n",
      " 12 39 65 73 97 27]\n"
     ]
    }
   ],
   "source": [
    "a=ri(5,99,30)\n",
    "print(\"Calling 10 random integers by using randint\\n-------------------------------------\\n\",a)"
   ]
  },
  {
   "cell_type": "markdown",
   "id": "d56713ec",
   "metadata": {},
   "source": [
    "## Create Two Matrix"
   ]
  },
  {
   "cell_type": "code",
   "execution_count": 86,
   "id": "16ad658e",
   "metadata": {},
   "outputs": [
    {
     "data": {
      "text/plain": [
       "array([[[97, 71, 77, 59, 34],\n",
       "        [69, 24, 34, 87, 47],\n",
       "        [23, 47, 98,  7, 80]],\n",
       "\n",
       "       [[96, 32, 37, 73, 65],\n",
       "        [64, 22, 32, 45, 12],\n",
       "        [39, 65, 73, 97, 27]]])"
      ]
     },
     "execution_count": 86,
     "metadata": {},
     "output_type": "execute_result"
    }
   ],
   "source": [
    "# Note 30 numbers are generated from randint function.. and we made 2 matrix of each of 15 elements {3*5=15}\n",
    "\n",
    "b=a.reshape(2,3,5) # here 2 is TWO MATRIX,3 rows and 5 as columns,\n",
    "\n",
    "b"
   ]
  },
  {
   "cell_type": "code",
   "execution_count": 87,
   "id": "8b91c643",
   "metadata": {},
   "outputs": [
    {
     "data": {
      "text/plain": [
       "array([[97, 71, 77, 59, 34, 69],\n",
       "       [24, 34, 87, 47, 23, 47],\n",
       "       [98,  7, 80, 96, 32, 37],\n",
       "       [73, 65, 64, 22, 32, 45],\n",
       "       [12, 39, 65, 73, 97, 27]])"
      ]
     },
     "execution_count": 87,
     "metadata": {},
     "output_type": "execute_result"
    }
   ],
   "source": [
    "# creating single matrix\n",
    "\n",
    "c=a.reshape(5,6)\n",
    "c"
   ]
  },
  {
   "cell_type": "markdown",
   "id": "5be76086",
   "metadata": {},
   "source": [
    "## Find Minimum/ Maximum"
   ]
  },
  {
   "cell_type": "code",
   "execution_count": 88,
   "id": "ceeac43e",
   "metadata": {},
   "outputs": [
    {
     "name": "stdout",
     "output_type": "stream",
     "text": [
      "Min in C:  7\n",
      "Maximum in C:  98\n"
     ]
    }
   ],
   "source": [
    "print(\"Min in C: \",c.min())\n",
    "print(\"Maximum in C: \",c.max())"
   ]
  },
  {
   "cell_type": "code",
   "execution_count": 89,
   "id": "1a2ac963",
   "metadata": {},
   "outputs": [
    {
     "name": "stdout",
     "output_type": "stream",
     "text": [
      "Min in b:  7\n",
      "maximum in b 98\n"
     ]
    }
   ],
   "source": [
    "print(\"Min in b: \",b.min())\n",
    "print(\"maximum in b\",b.max())"
   ]
  },
  {
   "cell_type": "markdown",
   "id": "c6ad4242",
   "metadata": {},
   "source": [
    "## Sorting in Numpy"
   ]
  },
  {
   "cell_type": "code",
   "execution_count": 4,
   "id": "675f6cba",
   "metadata": {},
   "outputs": [
    {
     "name": "stdout",
     "output_type": "stream",
     "text": [
      "[[25 46 26  8 14]\n",
      " [45 40 49 25 27]\n",
      " [33 20 46 25 21]\n",
      " [42 35 41 22 43]\n",
      " [38 42  7 22 23]]\n"
     ]
    }
   ],
   "source": [
    "f=np.random.randint(1,50,25).reshape(5,5)\n",
    "print(f)"
   ]
  },
  {
   "cell_type": "code",
   "execution_count": 5,
   "id": "443065e9",
   "metadata": {},
   "outputs": [
    {
     "name": "stdout",
     "output_type": "stream",
     "text": [
      "DATA IS IN ASCENDING ORDER ROW WISE when axis is -1\n",
      "---------------------------------\n"
     ]
    },
    {
     "data": {
      "text/plain": [
       "array([[ 8, 14, 25, 26, 46],\n",
       "       [25, 27, 40, 45, 49],\n",
       "       [20, 21, 25, 33, 46],\n",
       "       [22, 35, 41, 42, 43],\n",
       "       [ 7, 22, 23, 38, 42]])"
      ]
     },
     "execution_count": 5,
     "metadata": {},
     "output_type": "execute_result"
    }
   ],
   "source": [
    "# will sort in ascending order and in each row\n",
    "\n",
    "print(\"DATA IS IN ASCENDING ORDER ROW WISE when axis is -1\\n---------------------------------\")\n",
    "g=np.sort(f,axis=-1) # axis is -1 \n",
    "g"
   ]
  },
  {
   "cell_type": "code",
   "execution_count": 6,
   "id": "be2bb503",
   "metadata": {},
   "outputs": [
    {
     "name": "stdout",
     "output_type": "stream",
     "text": [
      "SORT DATA in ACENDING order column Wise\n",
      "------------------------------------\n",
      "[[25 20  7  8 14]\n",
      " [33 35 26 22 21]\n",
      " [38 40 41 22 23]\n",
      " [42 42 46 25 27]\n",
      " [45 46 49 25 43]]\n"
     ]
    }
   ],
   "source": [
    "# data will be in ascending in column wise\n",
    "\n",
    "h=np.sort(f,axis=0)\n",
    "print(\"SORT DATA in ACENDING order column Wise\\n------------------------------------\")\n",
    "print(h)"
   ]
  },
  {
   "cell_type": "markdown",
   "id": "4ef26619",
   "metadata": {},
   "source": [
    "## Indexing and slicing"
   ]
  },
  {
   "cell_type": "code",
   "execution_count": 95,
   "id": "48660c2e",
   "metadata": {},
   "outputs": [
    {
     "name": "stdout",
     "output_type": "stream",
     "text": [
      "[12 13 14 15 16 17 18 19 20 21 22 23 24 25 26 27 28 29]\n"
     ]
    }
   ],
   "source": [
    "arr=np.arange(12,30)\n",
    "print(arr)"
   ]
  },
  {
   "cell_type": "code",
   "execution_count": 97,
   "id": "2558a65a",
   "metadata": {},
   "outputs": [
    {
     "name": "stdout",
     "output_type": "stream",
     "text": [
      "Element at the 7th index:  19\n",
      "Element at the 3rd and 4th index:  [15 16]\n",
      "Element from 4th index till end:  [16 17 18 19 20 21 22 23 24 25 26 27 28 29]\n",
      "Element from backwards are escaping one one element:  [29 27 25 23 21 19 17 15 13]\n"
     ]
    }
   ],
   "source": [
    "print(\"Element at the 7th index: \",arr[7])\n",
    "print(\"Element at the 3rd and 4th index: \",arr[3:5])\n",
    "print(\"Element from 4th index till end: \",arr[4:])\n",
    "print(\"Element from backwards are escaping one one element: \",arr[-1::-2])"
   ]
  },
  {
   "cell_type": "code",
   "execution_count": 98,
   "id": "a61cef54",
   "metadata": {},
   "outputs": [
    {
     "name": "stdout",
     "output_type": "stream",
     "text": [
      "7 elements from backwards are:  [29 28 27 26 25 24 23]\n",
      "Element in 7th 4th and 9th index are:  [19 16 21]\n"
     ]
    }
   ],
   "source": [
    "print(\"7 elements from backwards are: \",arr[-1:-8:-1])\n",
    "print(\"Element in 7th 4th and 9th index are: \",arr[[7,4,9]]) # pass the index number in list"
   ]
  },
  {
   "cell_type": "code",
   "execution_count": 99,
   "id": "67e61938",
   "metadata": {},
   "outputs": [
    {
     "name": "stdout",
     "output_type": "stream",
     "text": [
      "[ 0  2  4  6  8 10 12 14 16 18 20]\n"
     ]
    }
   ],
   "source": [
    "arr=np.arange(0,21,2) # step size 2\n",
    "print(arr)"
   ]
  },
  {
   "cell_type": "code",
   "execution_count": 100,
   "id": "31e483e4",
   "metadata": {},
   "outputs": [
    {
     "name": "stdout",
     "output_type": "stream",
     "text": [
      "Element from 4th 7th 9th :  [ 8 14 18]\n"
     ]
    }
   ],
   "source": [
    "print(\"Element from 4th 7th 9th : \",arr[[4,7,9]]) # pass the index number in list to get random particular number"
   ]
  },
  {
   "cell_type": "code",
   "execution_count": 101,
   "id": "b71d55cb",
   "metadata": {},
   "outputs": [
    {
     "data": {
      "text/plain": [
       "11"
      ]
     },
     "execution_count": 101,
     "metadata": {},
     "output_type": "execute_result"
    }
   ],
   "source": [
    "len(arr)"
   ]
  },
  {
   "cell_type": "code",
   "execution_count": 104,
   "id": "7a212769",
   "metadata": {},
   "outputs": [
    {
     "name": "stdout",
     "output_type": "stream",
     "text": [
      "[[1 2 3]\n",
      " [4 5 6]\n",
      " [7 8 9]]\n"
     ]
    }
   ],
   "source": [
    "my_matrix=[[1,2,3],[4,5,6],[7,8,9]]\n",
    "\n",
    "mat=np.array(my_matrix)\n",
    "print(mat)"
   ]
  },
  {
   "cell_type": "markdown",
   "id": "9e392b1c",
   "metadata": {},
   "source": [
    "## Double bracket indexing"
   ]
  },
  {
   "cell_type": "code",
   "execution_count": 107,
   "id": "28c97e33",
   "metadata": {},
   "outputs": [
    {
     "name": "stdout",
     "output_type": "stream",
     "text": [
      "Double bracket indexing\n",
      "-----------------\n",
      " Element in row 1 and column index 2 is:   6\n"
     ]
    }
   ],
   "source": [
    "print(\"Double bracket indexing\\n-----------------\\n\",\"Element in row 1 and column index 2 is:  \",mat[1][2]) \n",
    "\n",
    "# will check for row 1 and row 0  will be ignored and will look for 2nd element in row 1 that is 6"
   ]
  },
  {
   "cell_type": "code",
   "execution_count": 113,
   "id": "f1f27aa4",
   "metadata": {},
   "outputs": [
    {
     "name": "stdout",
     "output_type": "stream",
     "text": [
      "Elements in row 2:  [7 8 9]\n",
      "Elements in row 1:  [4 5 6]\n",
      "Elements in row 0:  [1 2 3]\n",
      "element in row 0 and column:  [2 3]\n"
     ]
    }
   ],
   "source": [
    "print(\"Elements in row 2: \",mat[2]) # first is rows\n",
    "print(\"Elements in row 1: \",mat[1]) # first is rows\n",
    "print(\"Elements in row 0: \",mat[0]) # first is rows\n",
    "print(\"element in row 0 and column: \",mat[0][1:]) # row 0 and all element from index 1 to index end"
   ]
  },
  {
   "cell_type": "code",
   "execution_count": 114,
   "id": "72426091",
   "metadata": {},
   "outputs": [
    {
     "name": "stdout",
     "output_type": "stream",
     "text": [
      "Entire column at index 3: \n",
      " [[2 3]\n",
      " [5 6]\n",
      " [8 9]]\n"
     ]
    }
   ],
   "source": [
    "print(\"Entire column at index 3: \\n\",mat[:,1:])"
   ]
  },
  {
   "cell_type": "code",
   "execution_count": 117,
   "id": "830cacdb",
   "metadata": {},
   "outputs": [
    {
     "name": "stdout",
     "output_type": "stream",
     "text": [
      "Subsetting sub Matrices\n",
      "''''''''''''''''''''''''''''''''''''''''''''''''''''''''\n",
      "\n",
      "Entire column at index 3\n",
      " [[2 3]\n",
      " [5 6]\n",
      " [8 9]]\n"
     ]
    }
   ],
   "source": [
    "print(\"Subsetting sub Matrices\\n''''''''''''''''''''''''''''''''''''''''''''''''''''''''\\n\")\n",
    "print('Entire column at index 3\\n',mat[:,1:])# left {empty} is rows and right is column"
   ]
  },
  {
   "cell_type": "code",
   "execution_count": 118,
   "id": "d9712845",
   "metadata": {},
   "outputs": [
    {
     "name": "stdout",
     "output_type": "stream",
     "text": [
      "Matrix with row 1 and column 1 and row 2 and column 2 will be excluded.... [[5]]\n"
     ]
    }
   ],
   "source": [
    "# row 1 to row 2(here row 2 is excluded) and column 1 and 2 will be exculded\n",
    "\n",
    "print(\"Matrix with row 1 and column 1 and row 2 and column 2 will be excluded....\",mat[1:2,1:2])"
   ]
  },
  {
   "cell_type": "code",
   "execution_count": 119,
   "id": "8b6632e9",
   "metadata": {},
   "outputs": [
    {
     "name": "stdout",
     "output_type": "stream",
     "text": [
      "[[1 2 3]\n",
      " [4 5 6]\n",
      " [7 8 9]]\n"
     ]
    }
   ],
   "source": [
    "print(mat)"
   ]
  },
  {
   "cell_type": "code",
   "execution_count": 120,
   "id": "e7642643",
   "metadata": {},
   "outputs": [
    {
     "data": {
      "text/plain": [
       "array([[7, 8, 9]])"
      ]
     },
     "execution_count": 120,
     "metadata": {},
     "output_type": "execute_result"
    }
   ],
   "source": [
    "mat[2:,[0,1,2]]"
   ]
  },
  {
   "cell_type": "code",
   "execution_count": 122,
   "id": "104ec27f",
   "metadata": {},
   "outputs": [
    {
     "data": {
      "text/plain": [
       "array([[1, 2],\n",
       "       [4, 5]])"
      ]
     },
     "execution_count": 122,
     "metadata": {},
     "output_type": "execute_result"
    }
   ],
   "source": [
    "mat[0:2,0:2]"
   ]
  },
  {
   "cell_type": "markdown",
   "id": "e3c0c3f9",
   "metadata": {},
   "source": [
    "## Update Matrix"
   ]
  },
  {
   "cell_type": "code",
   "execution_count": 123,
   "id": "b0fc1722",
   "metadata": {},
   "outputs": [
    {
     "name": "stdout",
     "output_type": "stream",
     "text": [
      "Original Matrix\n",
      "-----------------------\n",
      " [[1 2 3]\n",
      " [4 5 6]\n",
      " [7 8 9]]\n"
     ]
    }
   ],
   "source": [
    "print('Original Matrix\\n-----------------------\\n',mat)"
   ]
  },
  {
   "cell_type": "code",
   "execution_count": 128,
   "id": "07436622",
   "metadata": {},
   "outputs": [
    {
     "name": "stdout",
     "output_type": "stream",
     "text": [
      "updated Matrix\n",
      "******************************\n",
      "\n",
      "After update\n",
      "[[ 1 35  3]\n",
      " [ 4  5  6]\n",
      " [ 7  8  9]]\n"
     ]
    }
   ],
   "source": [
    "print(\"updated Matrix\\n******************************\\n\")# zeroth row and first column is 35\n",
    "mat[0,1]=35\n",
    "\n",
    "print(\"After update\")\n",
    "print(mat)"
   ]
  },
  {
   "cell_type": "markdown",
   "id": "b27341d7",
   "metadata": {},
   "source": [
    "## Subsetting"
   ]
  },
  {
   "cell_type": "code",
   "execution_count": 3,
   "id": "1eb6f549",
   "metadata": {},
   "outputs": [
    {
     "name": "stdout",
     "output_type": "stream",
     "text": [
      "Matrix of 2 digit number\n",
      "---------------------------\n",
      "\n",
      "[[55 77 12 80 86]\n",
      " [25 64 42 15 29]\n",
      " [44 27 83 88 83]]\n"
     ]
    }
   ],
   "source": [
    "import numpy as np\n",
    "from numpy.random import randint as ri\n",
    "\n",
    "mat=np.array(ri(0,100,15)).reshape(3,5)\n",
    "print(\"Matrix of 2 digit number\\n---------------------------\\n\")\n",
    "print(mat)"
   ]
  },
  {
   "cell_type": "code",
   "execution_count": 7,
   "id": "073f3b56",
   "metadata": {},
   "outputs": [
    {
     "data": {
      "text/plain": [
       "array([77, 80, 86, 83, 88, 83])"
      ]
     },
     "execution_count": 7,
     "metadata": {},
     "output_type": "execute_result"
    }
   ],
   "source": [
    "# checking where matrix element is greater than 70\n",
    "mat[mat>70]"
   ]
  },
  {
   "cell_type": "markdown",
   "id": "c0a9e46c",
   "metadata": {},
   "source": [
    "- result shows which elements are greater than 70"
   ]
  },
  {
   "cell_type": "code",
   "execution_count": 8,
   "id": "ba41c95b",
   "metadata": {},
   "outputs": [
    {
     "data": {
      "text/plain": [
       "array([[ True,  True, False,  True,  True],\n",
       "       [False,  True, False, False, False],\n",
       "       [False, False,  True,  True,  True]])"
      ]
     },
     "execution_count": 8,
     "metadata": {},
     "output_type": "execute_result"
    }
   ],
   "source": [
    "# this will show where its more than 50\n",
    "\n",
    "mat>50"
   ]
  },
  {
   "cell_type": "code",
   "execution_count": 9,
   "id": "9da7331f",
   "metadata": {},
   "outputs": [
    {
     "name": "stdout",
     "output_type": "stream",
     "text": [
      "(array([2], dtype=int64), array([3], dtype=int64))\n"
     ]
    }
   ],
   "source": [
    "print(np.where(mat==88)) # 2nd row and 3rd column"
   ]
  },
  {
   "cell_type": "code",
   "execution_count": 10,
   "id": "818b4132",
   "metadata": {},
   "outputs": [
    {
     "data": {
      "text/plain": [
       "array([[55, 77, 12, 80, 86],\n",
       "       [25, 64, 42, 15, 29],\n",
       "       [44, 27, 83, 88, 83]])"
      ]
     },
     "execution_count": 10,
     "metadata": {},
     "output_type": "execute_result"
    }
   ],
   "source": [
    "mat"
   ]
  },
  {
   "cell_type": "markdown",
   "id": "2e193c00",
   "metadata": {},
   "source": [
    "## Universal Function"
   ]
  },
  {
   "cell_type": "code",
   "execution_count": 25,
   "id": "003a4ea0",
   "metadata": {},
   "outputs": [
    {
     "name": "stdout",
     "output_type": "stream",
     "text": [
      "First Matrix One:\n",
      "-----------------------------------\n",
      " [[ 0  1  2  3]\n",
      " [ 4  5  6  7]\n",
      " [ 8  9 10 11]\n",
      " [12 13 14 15]]\n",
      "\n",
      " Second Matrix:\n",
      "------------------------------------\n",
      " [[98 79 73 65]\n",
      " [57 98 49 66]\n",
      " [28 24 73 14]\n",
      " [ 2 45 74 94]]\n",
      "\n",
      "Third Matrix\n",
      "---------------------------------------\n",
      " [[16  5  2 18]\n",
      " [14  3  2  4]\n",
      " [ 5 13  3  4]\n",
      " [18  6 14  0]]\n"
     ]
    }
   ],
   "source": [
    "mat1=np.arange(0,16).reshape(4,4)\n",
    "print(\"First Matrix One:\\n-----------------------------------\\n\",mat1)\n",
    "\n",
    "mat2=np.array(ri(0,100,(4,4)))\n",
    "print(\"\\n Second Matrix:\\n------------------------------------\\n\",mat2)\n",
    "\n",
    "mat3=np.array(ri(0,20,16)).reshape(4,4)\n",
    "print(\"\\nThird Matrix\\n---------------------------------------\\n\",mat3)"
   ]
  },
  {
   "cell_type": "code",
   "execution_count": 27,
   "id": "ee9a5e01",
   "metadata": {},
   "outputs": [
    {
     "name": "stdout",
     "output_type": "stream",
     "text": [
      "Addition\n",
      "-----------------------\n",
      " [[ 98  80  75  68]\n",
      " [ 61 103  55  73]\n",
      " [ 36  33  83  25]\n",
      " [ 14  58  88 109]]\n",
      "Substraction\n",
      "--------------------\n",
      " [[-98 -78 -71 -62]\n",
      " [-53 -93 -43 -59]\n",
      " [-20 -15 -63  -3]\n",
      " [ 10 -32 -60 -79]]\n",
      "Multiplication\n",
      "-------------------\n",
      " [[  0   5   4  54]\n",
      " [ 56  15  12  28]\n",
      " [ 40 117  30  44]\n",
      " [216  78 196   0]]\n"
     ]
    }
   ],
   "source": [
    "print(\"Addition\\n-----------------------\\n\",np.add(mat1,mat2))\n",
    "print(\"Substraction\\n--------------------\\n\",np.subtract(mat1,mat2))\n",
    "print(\"Multiplication\\n-------------------\\n\",np.multiply(mat1,mat3))"
   ]
  },
  {
   "cell_type": "code",
   "execution_count": 31,
   "id": "efde4d78",
   "metadata": {},
   "outputs": [
    {
     "name": "stdout",
     "output_type": "stream",
     "text": [
      "Division\n",
      "--------------------------\n",
      " [[0.         0.2        1.         0.16666667]\n",
      " [0.28571429 1.66666667 3.         1.75      ]\n",
      " [1.6        0.69230769 3.33333333 2.75      ]\n",
      " [0.66666667 2.16666667 1.                inf]]\n",
      "Add\n",
      "------------------------------\n",
      " [[ 0  2  4  6]\n",
      " [ 8 10 12 14]\n",
      " [16 18 20 22]\n",
      " [24 26 28 30]]\n",
      "Subtract\n",
      "-------------------------\n",
      " [[  3   2   1   0]\n",
      " [ -1  -2  -3  -4]\n",
      " [ -5  -6  -7  -8]\n",
      " [ -9 -10 -11 -12]]\n"
     ]
    },
    {
     "name": "stderr",
     "output_type": "stream",
     "text": [
      "C:\\Users\\jitsa\\AppData\\Local\\Temp\\ipykernel_11556\\239181869.py:1: RuntimeWarning: divide by zero encountered in true_divide\n",
      "  print(\"Division\\n--------------------------\\n\",np.divide(mat1,mat3))\n"
     ]
    }
   ],
   "source": [
    "print(\"Division\\n--------------------------\\n\",np.divide(mat1,mat3))\n",
    "print(\"Add\\n------------------------------\\n\",2*mat1)\n",
    "print(\"Subtract\\n-------------------------\\n\",3-mat1)"
   ]
  },
  {
   "cell_type": "code",
   "execution_count": 34,
   "id": "71c98bc3",
   "metadata": {},
   "outputs": [
    {
     "name": "stdout",
     "output_type": "stream",
     "text": [
      "[[ -0.   -0.8   3.2 -10.8]\n",
      " [ -3.2  24.   38.4  47.6]\n",
      " [ 60.8  50.4 108.  127.6]\n",
      " [ 86.4 171.6 156.8 270. ]]\n"
     ]
    }
   ],
   "source": [
    "print((5*mat1-2*mat3+mat1)/5*mat1)"
   ]
  },
  {
   "cell_type": "code",
   "execution_count": 38,
   "id": "261d6f86",
   "metadata": {},
   "outputs": [
    {
     "name": "stdout",
     "output_type": "stream",
     "text": [
      "Mat1\n",
      "------------------------------\n",
      " [[ 0  1  2  3]\n",
      " [ 4  5  6  7]\n",
      " [ 8  9 10 11]\n",
      " [12 13 14 15]]\n",
      "\n",
      "Multiplication on matrix\n",
      "----------------------------\n",
      " [[ 0  3  6  9]\n",
      " [12 15 18 21]\n",
      " [24 27 30 33]\n",
      " [36 39 42 45]]\n"
     ]
    }
   ],
   "source": [
    "print(\"Mat1\\n------------------------------\\n\",mat1)\n",
    "print(\"\\nMultiplication on matrix\\n----------------------------\\n\",3*mat1)"
   ]
  },
  {
   "cell_type": "markdown",
   "id": "95d4762d",
   "metadata": {},
   "source": [
    "## Broadcasting\n",
    "\n",
    "- Lets understand how it works in different different matrix"
   ]
  },
  {
   "cell_type": "code",
   "execution_count": 64,
   "id": "632655d2",
   "metadata": {},
   "outputs": [
    {
     "name": "stdout",
     "output_type": "stream",
     "text": [
      "Matrix 'START'\n",
      "-----------------\n",
      " [[0. 0. 0. 0.]\n",
      " [0. 0. 0. 0.]\n",
      " [0. 0. 0. 0.]\n",
      " [0. 0. 0. 0.]]\n"
     ]
    }
   ],
   "source": [
    "start=np.zeros((4,4))\n",
    "print(\"Matrix 'START'\\n-----------------\\n\",start)"
   ]
  },
  {
   "cell_type": "code",
   "execution_count": 57,
   "id": "e4ee7231",
   "metadata": {},
   "outputs": [
    {
     "name": "stdout",
     "output_type": "stream",
     "text": [
      "[[6 3 2 1]]\n",
      "2\n"
     ]
    }
   ],
   "source": [
    "row=np.array(ri(0,10,4)).reshape(1,4)\n",
    "print(row)\n",
    "print(row.ndim)"
   ]
  },
  {
   "cell_type": "code",
   "execution_count": 58,
   "id": "0a7e2a5d",
   "metadata": {},
   "outputs": [
    {
     "name": "stdout",
     "output_type": "stream",
     "text": [
      "[1 2 3 4]\n",
      "1\n"
     ]
    }
   ],
   "source": [
    "add_row=np.array([1,2,3,4])\n",
    "print(add_row)\n",
    "print(add_row.ndim)"
   ]
  },
  {
   "cell_type": "code",
   "execution_count": 65,
   "id": "d120fc9a",
   "metadata": {},
   "outputs": [
    {
     "name": "stdout",
     "output_type": "stream",
     "text": [
      "Added row Wise\n",
      "--------------------\n",
      " [[6. 3. 2. 1.]\n",
      " [6. 3. 2. 1.]\n",
      " [6. 3. 2. 1.]\n",
      " [6. 3. 2. 1.]] \n",
      "\n",
      " [[1. 2. 3. 4.]\n",
      " [1. 2. 3. 4.]\n",
      " [1. 2. 3. 4.]\n",
      " [1. 2. 3. 4.]]\n"
     ]
    }
   ],
   "source": [
    "# adding row wise\n",
    "\n",
    "f=row+start\n",
    "g=add_row+start\n",
    "print(\"Added row Wise\\n--------------------\\n\",f,\"\\n\\n\",g)"
   ]
  },
  {
   "cell_type": "markdown",
   "id": "aa4e29c7",
   "metadata": {},
   "source": [
    "## Transpose\n",
    "\n",
    "- Rows can be changed in columns and columns can be changed into rows"
   ]
  },
  {
   "cell_type": "code",
   "execution_count": 66,
   "id": "2c35079f",
   "metadata": {},
   "outputs": [
    {
     "name": "stdout",
     "output_type": "stream",
     "text": [
      "[[6]\n",
      " [3]\n",
      " [2]\n",
      " [1]]\n",
      "[1 2 3 4]\n"
     ]
    }
   ],
   "source": [
    "# here row is in 2 dimension so can be tranposed\n",
    "column=row.T\n",
    "print(column)\n",
    "\n",
    "add_column=add_row.T # here add_row is in one dimension so can't be transposed\n",
    "print(add_column)"
   ]
  },
  {
   "cell_type": "code",
   "execution_count": 69,
   "id": "a7bd7e33",
   "metadata": {},
   "outputs": [
    {
     "name": "stdout",
     "output_type": "stream",
     "text": [
      "Addition  on  column Wise\n",
      "-----------------------------\n",
      "\n",
      "[[6. 6. 6. 6.]\n",
      " [3. 3. 3. 3.]\n",
      " [2. 2. 2. 2.]\n",
      " [1. 1. 1. 1.]]\n"
     ]
    }
   ],
   "source": [
    "print(\"Addition  on  column Wise\\n-----------------------------\\n\")\n",
    "print(column+start)"
   ]
  },
  {
   "cell_type": "markdown",
   "id": "c6ca0ad1",
   "metadata": {},
   "source": [
    "## Array Maths"
   ]
  },
  {
   "cell_type": "code",
   "execution_count": 71,
   "id": "c21ae234",
   "metadata": {},
   "outputs": [
    {
     "name": "stdout",
     "output_type": "stream",
     "text": [
      "First- Number\n",
      "---------------\n",
      " [[6 6 9]\n",
      " [0 6 5]\n",
      " [2 9 7]]\n",
      "\n",
      "Second Number\n",
      "----------------\n",
      " [[0 1 2]\n",
      " [3 4 5]\n",
      " [6 7 8]]\n"
     ]
    }
   ],
   "source": [
    "# generate random integer with randint\n",
    "\n",
    "F_number=np.array(ri(0,10,9)).reshape(3,3)\n",
    "print(\"First- Number\\n---------------\\n\",F_number)\n",
    "\n",
    "S_number=np.arange(0,9).reshape(3,3)\n",
    "print('\\nSecond Number\\n----------------\\n',S_number)"
   ]
  },
  {
   "cell_type": "code",
   "execution_count": 72,
   "id": "5e32df36",
   "metadata": {},
   "outputs": [
    {
     "data": {
      "text/plain": [
       "array([[2.44948974, 2.44948974, 3.        ],\n",
       "       [0.        , 2.44948974, 2.23606798],\n",
       "       [1.41421356, 3.        , 2.64575131]])"
      ]
     },
     "execution_count": 72,
     "metadata": {},
     "output_type": "execute_result"
    }
   ],
   "source": [
    "# finding square root of first number\n",
    "np.sqrt(F_number)"
   ]
  },
  {
   "cell_type": "code",
   "execution_count": 73,
   "id": "13bd46ba",
   "metadata": {},
   "outputs": [
    {
     "data": {
      "text/plain": [
       "array([[36, 36, 81],\n",
       "       [ 0, 36, 25],\n",
       "       [ 4, 81, 49]], dtype=int32)"
      ]
     },
     "execution_count": 73,
     "metadata": {},
     "output_type": "execute_result"
    }
   ],
   "source": [
    "# finding square of first number\n",
    "np.square(F_number)"
   ]
  },
  {
   "cell_type": "code",
   "execution_count": 75,
   "id": "0218d088",
   "metadata": {},
   "outputs": [],
   "source": [
    "# Similarly we apply all these functions "
   ]
  },
  {
   "cell_type": "code",
   "execution_count": 76,
   "id": "b0f2eaf1",
   "metadata": {},
   "outputs": [
    {
     "name": "stdout",
     "output_type": "stream",
     "text": [
      "['ALLOW_THREADS', 'AxisError', 'BUFSIZE', 'Bytes0', 'CLIP', 'ComplexWarning', 'DataSource', 'Datetime64', 'ERR_CALL', 'ERR_DEFAULT', 'ERR_IGNORE', 'ERR_LOG', 'ERR_PRINT', 'ERR_RAISE', 'ERR_WARN', 'FLOATING_POINT_SUPPORT', 'FPE_DIVIDEBYZERO', 'FPE_INVALID', 'FPE_OVERFLOW', 'FPE_UNDERFLOW', 'False_', 'Inf', 'Infinity', 'MAXDIMS', 'MAY_SHARE_BOUNDS', 'MAY_SHARE_EXACT', 'MachAr', 'ModuleDeprecationWarning', 'NAN', 'NINF', 'NZERO', 'NaN', 'PINF', 'PZERO', 'RAISE', 'RankWarning', 'SHIFT_DIVIDEBYZERO', 'SHIFT_INVALID', 'SHIFT_OVERFLOW', 'SHIFT_UNDERFLOW', 'ScalarType', 'Str0', 'Tester', 'TooHardError', 'True_', 'UFUNC_BUFSIZE_DEFAULT', 'UFUNC_PYVALS_NAME', 'Uint64', 'VisibleDeprecationWarning', 'WRAP', '_NoValue', '_UFUNC_API', '__NUMPY_SETUP__', '__all__', '__builtins__', '__cached__', '__config__', '__deprecated_attrs__', '__dir__', '__doc__', '__expired_functions__', '__file__', '__getattr__', '__git_version__', '__loader__', '__mkl_version__', '__name__', '__package__', '__path__', '__spec__', '__version__', '_add_newdoc_ufunc', '_distributor_init', '_financial_names', '_globals', '_mat', '_pytesttester', '_version', 'abs', 'absolute', 'add', 'add_docstring', 'add_newdoc', 'add_newdoc_ufunc', 'alen', 'all', 'allclose', 'alltrue', 'amax', 'amin', 'angle', 'any', 'append', 'apply_along_axis', 'apply_over_axes', 'arange', 'arccos', 'arccosh', 'arcsin', 'arcsinh', 'arctan', 'arctan2', 'arctanh', 'argmax', 'argmin', 'argpartition', 'argsort', 'argwhere', 'around', 'array', 'array2string', 'array_equal', 'array_equiv', 'array_repr', 'array_split', 'array_str', 'asanyarray', 'asarray', 'asarray_chkfinite', 'ascontiguousarray', 'asfarray', 'asfortranarray', 'asmatrix', 'asscalar', 'atleast_1d', 'atleast_2d', 'atleast_3d', 'average', 'bartlett', 'base_repr', 'binary_repr', 'bincount', 'bitwise_and', 'bitwise_not', 'bitwise_or', 'bitwise_xor', 'blackman', 'block', 'bmat', 'bool8', 'bool_', 'broadcast', 'broadcast_arrays', 'broadcast_shapes', 'broadcast_to', 'busday_count', 'busday_offset', 'busdaycalendar', 'byte', 'byte_bounds', 'bytes0', 'bytes_', 'c_', 'can_cast', 'cast', 'cbrt', 'cdouble', 'ceil', 'cfloat', 'char', 'character', 'chararray', 'choose', 'clip', 'clongdouble', 'clongfloat', 'column_stack', 'common_type', 'compare_chararrays', 'compat', 'complex128', 'complex64', 'complex_', 'complexfloating', 'compress', 'concatenate', 'conj', 'conjugate', 'convolve', 'copy', 'copysign', 'copyto', 'core', 'corrcoef', 'correlate', 'cos', 'cosh', 'count_nonzero', 'cov', 'cross', 'csingle', 'ctypeslib', 'cumprod', 'cumproduct', 'cumsum', 'datetime64', 'datetime_as_string', 'datetime_data', 'deg2rad', 'degrees', 'delete', 'deprecate', 'deprecate_with_doc', 'diag', 'diag_indices', 'diag_indices_from', 'diagflat', 'diagonal', 'diff', 'digitize', 'disp', 'divide', 'divmod', 'dot', 'double', 'dsplit', 'dstack', 'dtype', 'e', 'ediff1d', 'einsum', 'einsum_path', 'emath', 'empty', 'empty_like', 'equal', 'errstate', 'euler_gamma', 'exp', 'exp2', 'expand_dims', 'expm1', 'extract', 'eye', 'fabs', 'fastCopyAndTranspose', 'fft', 'fill_diagonal', 'find_common_type', 'finfo', 'fix', 'flatiter', 'flatnonzero', 'flexible', 'flip', 'fliplr', 'flipud', 'float16', 'float32', 'float64', 'float_', 'float_power', 'floating', 'floor', 'floor_divide', 'fmax', 'fmin', 'fmod', 'format_float_positional', 'format_float_scientific', 'format_parser', 'frexp', 'frombuffer', 'fromfile', 'fromfunction', 'fromiter', 'frompyfunc', 'fromregex', 'fromstring', 'full', 'full_like', 'gcd', 'generic', 'genfromtxt', 'geomspace', 'get_array_wrap', 'get_include', 'get_printoptions', 'getbufsize', 'geterr', 'geterrcall', 'geterrobj', 'gradient', 'greater', 'greater_equal', 'half', 'hamming', 'hanning', 'heaviside', 'histogram', 'histogram2d', 'histogram_bin_edges', 'histogramdd', 'hsplit', 'hstack', 'hypot', 'i0', 'identity', 'iinfo', 'imag', 'in1d', 'index_exp', 'indices', 'inexact', 'inf', 'info', 'infty', 'inner', 'insert', 'int0', 'int16', 'int32', 'int64', 'int8', 'int_', 'intc', 'integer', 'interp', 'intersect1d', 'intp', 'invert', 'is_busday', 'isclose', 'iscomplex', 'iscomplexobj', 'isfinite', 'isfortran', 'isin', 'isinf', 'isnan', 'isnat', 'isneginf', 'isposinf', 'isreal', 'isrealobj', 'isscalar', 'issctype', 'issubclass_', 'issubdtype', 'issubsctype', 'iterable', 'ix_', 'kaiser', 'kron', 'lcm', 'ldexp', 'left_shift', 'less', 'less_equal', 'lexsort', 'lib', 'linalg', 'linspace', 'little_endian', 'load', 'loads', 'loadtxt', 'log', 'log10', 'log1p', 'log2', 'logaddexp', 'logaddexp2', 'logical_and', 'logical_not', 'logical_or', 'logical_xor', 'logspace', 'longcomplex', 'longdouble', 'longfloat', 'longlong', 'lookfor', 'ma', 'mafromtxt', 'mask_indices', 'mat', 'math', 'matmul', 'matrix', 'matrixlib', 'max', 'maximum', 'maximum_sctype', 'may_share_memory', 'mean', 'median', 'memmap', 'meshgrid', 'mgrid', 'min', 'min_scalar_type', 'minimum', 'mintypecode', 'mkl', 'mod', 'modf', 'moveaxis', 'msort', 'multiply', 'nan', 'nan_to_num', 'nanargmax', 'nanargmin', 'nancumprod', 'nancumsum', 'nanmax', 'nanmean', 'nanmedian', 'nanmin', 'nanpercentile', 'nanprod', 'nanquantile', 'nanstd', 'nansum', 'nanvar', 'nbytes', 'ndarray', 'ndenumerate', 'ndfromtxt', 'ndim', 'ndindex', 'nditer', 'negative', 'nested_iters', 'newaxis', 'nextafter', 'nonzero', 'not_equal', 'numarray', 'number', 'obj2sctype', 'object0', 'object_', 'ogrid', 'oldnumeric', 'ones', 'ones_like', 'os', 'outer', 'packbits', 'pad', 'partition', 'percentile', 'pi', 'piecewise', 'place', 'poly', 'poly1d', 'polyadd', 'polyder', 'polydiv', 'polyfit', 'polyint', 'polymul', 'polynomial', 'polysub', 'polyval', 'positive', 'power', 'printoptions', 'prod', 'product', 'promote_types', 'ptp', 'put', 'put_along_axis', 'putmask', 'quantile', 'r_', 'rad2deg', 'radians', 'random', 'ravel', 'ravel_multi_index', 'real', 'real_if_close', 'rec', 'recarray', 'recfromcsv', 'recfromtxt', 'reciprocal', 'record', 'remainder', 'repeat', 'require', 'reshape', 'resize', 'result_type', 'right_shift', 'rint', 'roll', 'rollaxis', 'roots', 'rot90', 'round', 'round_', 'row_stack', 's_', 'safe_eval', 'save', 'savetxt', 'savez', 'savez_compressed', 'sctype2char', 'sctypeDict', 'sctypes', 'searchsorted', 'select', 'set_numeric_ops', 'set_printoptions', 'set_string_function', 'setbufsize', 'setdiff1d', 'seterr', 'seterrcall', 'seterrobj', 'setxor1d', 'shape', 'shares_memory', 'short', 'show_config', 'sign', 'signbit', 'signedinteger', 'sin', 'sinc', 'single', 'singlecomplex', 'sinh', 'size', 'sometrue', 'sort', 'sort_complex', 'source', 'spacing', 'split', 'sqrt', 'square', 'squeeze', 'stack', 'std', 'str0', 'str_', 'string_', 'subtract', 'sum', 'swapaxes', 'sys', 'take', 'take_along_axis', 'tan', 'tanh', 'tensordot', 'test', 'testing', 'tile', 'timedelta64', 'trace', 'tracemalloc_domain', 'transpose', 'trapz', 'tri', 'tril', 'tril_indices', 'tril_indices_from', 'trim_zeros', 'triu', 'triu_indices', 'triu_indices_from', 'true_divide', 'trunc', 'typecodes', 'typename', 'ubyte', 'ufunc', 'uint', 'uint0', 'uint16', 'uint32', 'uint64', 'uint8', 'uintc', 'uintp', 'ulonglong', 'unicode_', 'union1d', 'unique', 'unpackbits', 'unravel_index', 'unsignedinteger', 'unwrap', 'use_hugepage', 'ushort', 'vander', 'var', 'vdot', 'vectorize', 'version', 'void', 'void0', 'vsplit', 'vstack', 'warnings', 'where', 'who', 'zeros', 'zeros_like']\n"
     ]
    }
   ],
   "source": [
    "import numpy as np\n",
    "print(dir(np))"
   ]
  },
  {
   "cell_type": "markdown",
   "id": "26c75f86",
   "metadata": {},
   "source": [
    "-----------------------------------------"
   ]
  }
 ],
 "metadata": {
  "kernelspec": {
   "display_name": "Python 3 (ipykernel)",
   "language": "python",
   "name": "python3"
  },
  "language_info": {
   "codemirror_mode": {
    "name": "ipython",
    "version": 3
   },
   "file_extension": ".py",
   "mimetype": "text/x-python",
   "name": "python",
   "nbconvert_exporter": "python",
   "pygments_lexer": "ipython3",
   "version": "3.11.4"
  }
 },
 "nbformat": 4,
 "nbformat_minor": 5
}
